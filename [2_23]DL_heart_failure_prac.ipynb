{
  "nbformat": 4,
  "nbformat_minor": 0,
  "metadata": {
    "colab": {
      "provenance": [],
      "mount_file_id": "1SpbDQ8WSEkxAuFXuEuCTG4TYgwdD5wMt",
      "authorship_tag": "ABX9TyM4TfpqKDqAQiQhgZ7S/5aT",
      "include_colab_link": true
    },
    "kernelspec": {
      "name": "python3",
      "display_name": "Python 3"
    },
    "language_info": {
      "name": "python"
    }
  },
  "cells": [
    {
      "cell_type": "markdown",
      "metadata": {
        "id": "view-in-github",
        "colab_type": "text"
      },
      "source": [
        "<a href=\"https://colab.research.google.com/github/SeYoungMir/TIL/blob/master/%5B2_23%5DDL_heart_failure_prac.ipynb\" target=\"_parent\"><img src=\"https://colab.research.google.com/assets/colab-badge.svg\" alt=\"Open In Colab\"/></a>"
      ]
    },
    {
      "cell_type": "markdown",
      "source": [
        "딥러닝 모델 설계하기\n",
        "1. 환경 준비\n",
        "\n",
        "\n",
        "\n",
        "\n",
        "\n"
      ],
      "metadata": {
        "id": "iEFMkSBZc6Eo"
      }
    },
    {
      "cell_type": "code",
      "source": [
        "# 텐서플로 라이브러리 안에 있는 케라스 API에서 필요한 함수들을 불러옵니다.\n",
        "from tensorflow.keras.models import Sequential  \n",
        "from tensorflow.keras.layers import Dense   \n",
        "# 데이터를 다루는 데 필요한 라이브러리를 불러옵니다.\n",
        "import numpy as np"
      ],
      "metadata": {
        "id": "Yq_42GaodrDH"
      },
      "execution_count": 3,
      "outputs": []
    },
    {
      "cell_type": "markdown",
      "source": [
        "2. 데이터 준비"
      ],
      "metadata": {
        "id": "coy3STQGdpCa"
      }
    },
    {
      "cell_type": "code",
      "source": [
        "\n",
        "# 준비된 수술 환자 데이터를 불러옵니다.\n",
        "Data_set = np.loadtxt(\"./ThoraricSurgery3.csv\", delimiter=\",\")  \n",
        "X = Data_set[:,0:16]    # 환자의 진찰 기록을 X로 지정합니다.\n",
        "y = Data_set[:,16]      # 수술 1년 후 사망/생존 여부를 y로 지정합니다."
      ],
      "metadata": {
        "id": "zZV1nG8Admu4"
      },
      "execution_count": 4,
      "outputs": []
    },
    {
      "cell_type": "markdown",
      "source": [
        "3. 구조 결정\n",
        "\n",
        "\n",
        "\n"
      ],
      "metadata": {
        "id": "xPIkEjewdezQ"
      }
    },
    {
      "cell_type": "code",
      "source": [
        "# 딥러닝 모델의 구조를 결정합니다.\n",
        "model = Sequential()                                                   \n",
        "model.add(Dense(30, input_dim=16, activation='relu'))\n",
        "model.add(Dense(1, activation='sigmoid'))"
      ],
      "metadata": {
        "id": "wnO3H1_mdkKA"
      },
      "execution_count": 5,
      "outputs": []
    },
    {
      "cell_type": "markdown",
      "source": [
        "4. 모델 실행"
      ],
      "metadata": {
        "id": "UZmG2whSdFFh"
      }
    },
    {
      "cell_type": "code",
      "source": [
        "# 딥러닝 모델을 실행합니다.\n",
        "model.compile(loss='binary_crossentropy', optimizer='adam', metrics=['accuracy']) \n",
        "history=model.fit(X, y, epochs=30, batch_size=16)"
      ],
      "metadata": {
        "colab": {
          "base_uri": "https://localhost:8080/"
        },
        "id": "b0v6l7RzdDwA",
        "outputId": "5b39f15b-8269-47d5-9f18-33f8bf8de855"
      },
      "execution_count": 6,
      "outputs": [
        {
          "output_type": "stream",
          "name": "stdout",
          "text": [
            "Epoch 1/30\n",
            "30/30 [==============================] - 1s 3ms/step - loss: 0.7966 - accuracy: 0.8489\n",
            "Epoch 2/30\n",
            "30/30 [==============================] - 0s 2ms/step - loss: 0.4543 - accuracy: 0.8489\n",
            "Epoch 3/30\n",
            "30/30 [==============================] - 0s 2ms/step - loss: 0.4520 - accuracy: 0.8511\n",
            "Epoch 4/30\n",
            "30/30 [==============================] - 0s 2ms/step - loss: 0.4514 - accuracy: 0.8511\n",
            "Epoch 5/30\n",
            "30/30 [==============================] - 0s 2ms/step - loss: 0.4381 - accuracy: 0.8511\n",
            "Epoch 6/30\n",
            "30/30 [==============================] - 0s 2ms/step - loss: 0.4412 - accuracy: 0.8511\n",
            "Epoch 7/30\n",
            "30/30 [==============================] - 0s 3ms/step - loss: 0.4424 - accuracy: 0.8511\n",
            "Epoch 8/30\n",
            "30/30 [==============================] - 0s 2ms/step - loss: 0.4287 - accuracy: 0.8511\n",
            "Epoch 9/30\n",
            "30/30 [==============================] - 0s 2ms/step - loss: 0.4251 - accuracy: 0.8511\n",
            "Epoch 10/30\n",
            "30/30 [==============================] - 0s 2ms/step - loss: 0.4296 - accuracy: 0.8511\n",
            "Epoch 11/30\n",
            "30/30 [==============================] - 0s 2ms/step - loss: 0.4220 - accuracy: 0.8511\n",
            "Epoch 12/30\n",
            "30/30 [==============================] - 0s 2ms/step - loss: 0.4166 - accuracy: 0.8511\n",
            "Epoch 13/30\n",
            "30/30 [==============================] - 0s 2ms/step - loss: 0.4167 - accuracy: 0.8511\n",
            "Epoch 14/30\n",
            "30/30 [==============================] - 0s 2ms/step - loss: 0.4114 - accuracy: 0.8511\n",
            "Epoch 15/30\n",
            "30/30 [==============================] - 0s 2ms/step - loss: 0.4172 - accuracy: 0.8511\n",
            "Epoch 16/30\n",
            "30/30 [==============================] - 0s 2ms/step - loss: 0.4228 - accuracy: 0.8511\n",
            "Epoch 17/30\n",
            "30/30 [==============================] - 0s 2ms/step - loss: 0.4084 - accuracy: 0.8511\n",
            "Epoch 18/30\n",
            "30/30 [==============================] - 0s 2ms/step - loss: 0.4095 - accuracy: 0.8511\n",
            "Epoch 19/30\n",
            "30/30 [==============================] - 0s 2ms/step - loss: 0.4068 - accuracy: 0.8511\n",
            "Epoch 20/30\n",
            "30/30 [==============================] - 0s 2ms/step - loss: 0.4069 - accuracy: 0.8511\n",
            "Epoch 21/30\n",
            "30/30 [==============================] - 0s 2ms/step - loss: 0.4122 - accuracy: 0.8511\n",
            "Epoch 22/30\n",
            "30/30 [==============================] - 0s 2ms/step - loss: 0.4023 - accuracy: 0.8511\n",
            "Epoch 23/30\n",
            "30/30 [==============================] - 0s 2ms/step - loss: 0.4086 - accuracy: 0.8511\n",
            "Epoch 24/30\n",
            "30/30 [==============================] - 0s 2ms/step - loss: 0.4012 - accuracy: 0.8511\n",
            "Epoch 25/30\n",
            "30/30 [==============================] - 0s 2ms/step - loss: 0.4015 - accuracy: 0.8511\n",
            "Epoch 26/30\n",
            "30/30 [==============================] - 0s 2ms/step - loss: 0.4032 - accuracy: 0.8511\n",
            "Epoch 27/30\n",
            "30/30 [==============================] - 0s 10ms/step - loss: 0.4061 - accuracy: 0.8489\n",
            "Epoch 28/30\n",
            "30/30 [==============================] - 0s 2ms/step - loss: 0.3953 - accuracy: 0.8532\n",
            "Epoch 29/30\n",
            "30/30 [==============================] - 0s 2ms/step - loss: 0.4121 - accuracy: 0.8532\n",
            "Epoch 30/30\n",
            "30/30 [==============================] - 0s 2ms/step - loss: 0.4027 - accuracy: 0.8532\n"
          ]
        }
      ]
    },
    {
      "cell_type": "code",
      "source": [
        "print(\"\\n Accuracy: %.4f\" % (model.evaluate(X, y)[1]))\n"
      ],
      "metadata": {
        "colab": {
          "base_uri": "https://localhost:8080/"
        },
        "id": "v94j-SSPdA8r",
        "outputId": "6742c5f5-55ae-49f0-9e47-232cb6cc970a"
      },
      "execution_count": 7,
      "outputs": [
        {
          "output_type": "stream",
          "name": "stdout",
          "text": [
            "15/15 [==============================] - 0s 3ms/step - loss: 0.3929 - accuracy: 0.8511\n",
            "\n",
            " Accuracy: 0.8511\n"
          ]
        }
      ]
    }
  ]
}