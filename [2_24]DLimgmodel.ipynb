{
  "nbformat": 4,
  "nbformat_minor": 0,
  "metadata": {
    "colab": {
      "provenance": [],
      "authorship_tag": "ABX9TyMZwNPDcRl0KLh0kcV5u9Bv",
      "include_colab_link": true
    },
    "kernelspec": {
      "name": "python3",
      "display_name": "Python 3"
    },
    "language_info": {
      "name": "python"
    }
  },
  "cells": [
    {
      "cell_type": "markdown",
      "metadata": {
        "id": "view-in-github",
        "colab_type": "text"
      },
      "source": [
        "<a href=\"https://colab.research.google.com/github/SeYoungMir/TIL/blob/master/%5B2_24%5DDLimgmodel.ipynb\" target=\"_parent\"><img src=\"https://colab.research.google.com/assets/colab-badge.svg\" alt=\"Open In Colab\"/></a>"
      ]
    },
    {
      "cell_type": "markdown",
      "source": [
        "텐서플로가 제공하는 데이터셋 확인\n",
        "\n",
        "MNIST 필기 숫자 데이터셋\n",
        "\n",
        "CIFAR-10 자연영상 데이터셋"
      ],
      "metadata": {
        "id": "3FK6KagvZD-E"
      }
    },
    {
      "cell_type": "code",
      "source": [
        "import tensorflow as tf\n",
        "import tensorflow.keras.datasets as ds\n",
        "import matplotlib.pyplot as plt\n",
        "(x_train,y_train),(x_test,y_test)=ds.mnist.load_data()\n",
        "print(x_train.shape,y_train.shape,x_test.shape,y_test.shape)\n"
      ],
      "metadata": {
        "colab": {
          "base_uri": "https://localhost:8080/"
        },
        "id": "kd6XWzBTZeGi",
        "outputId": "d9f1afcd-1302-4a3d-8a92-9ca01571329c"
      },
      "execution_count": 1,
      "outputs": [
        {
          "output_type": "stream",
          "name": "stdout",
          "text": [
            "Downloading data from https://storage.googleapis.com/tensorflow/tf-keras-datasets/mnist.npz\n",
            "11490434/11490434 [==============================] - 0s 0us/step\n",
            "(60000, 28, 28) (60000,) (10000, 28, 28) (10000,)\n"
          ]
        }
      ]
    },
    {
      "cell_type": "code",
      "source": [
        "plt.figure(figsize=(24,3))\n",
        "plt.suptitle('MNIST',fontsize=30)"
      ],
      "metadata": {
        "colab": {
          "base_uri": "https://localhost:8080/",
          "height": 54
        },
        "id": "sRVyhykUZgSa",
        "outputId": "f8c69536-887f-4696-b2cc-9c98d96ee669"
      },
      "execution_count": 2,
      "outputs": [
        {
          "output_type": "execute_result",
          "data": {
            "text/plain": [
              "Text(0.5, 0.98, 'MNIST')"
            ]
          },
          "metadata": {},
          "execution_count": 2
        },
        {
          "output_type": "display_data",
          "data": {
            "text/plain": [
              "<Figure size 1728x216 with 0 Axes>"
            ]
          },
          "metadata": {}
        }
      ]
    },
    {
      "cell_type": "code",
      "source": [
        "for i in range(10):\n",
        "    plt.subplot(1,10,i+1)\n",
        "    plt.imshow(x_train[i],cmap='gray')\n",
        "    plt.xticks([]); plt.yticks([])\n",
        "    plt.title(str(y_train[i]),fontsize=30)\n"
      ],
      "metadata": {
        "colab": {
          "base_uri": "https://localhost:8080/",
          "height": 92
        },
        "id": "F3neXYdNZhkm",
        "outputId": "f5af1e33-3c71-4176-e7b0-65fa998647f2"
      },
      "execution_count": 3,
      "outputs": [
        {
          "output_type": "display_data",
          "data": {
            "text/plain": [
              "<Figure size 432x288 with 10 Axes>"
            ],
            "image/png": "[encoded data removed]"
          },
          "metadata": {}
        }
      ]
    },
    {
      "cell_type": "code",
      "source": [
        "(x_train,y_train),(x_test,y_test)=ds.cifar10.load_data()\n",
        "print(x_train.shape,y_train.shape,x_test.shape,y_test.shape)"
      ],
      "metadata": {
        "colab": {
          "base_uri": "https://localhost:8080/"
        },
        "id": "F5iTGrcYZj-o",
        "outputId": "03b83afc-0636-4405-c39b-2ffd789a8744"
      },
      "execution_count": 4,
      "outputs": [
        {
          "output_type": "stream",
          "name": "stdout",
          "text": [
            "Downloading data from https://www.cs.toronto.edu/~kriz/cifar-10-python.tar.gz\n",
            "170498071/170498071 [==============================] - 3s 0us/step\n",
            "(50000, 32, 32, 3) (50000, 1) (10000, 32, 32, 3) (10000, 1)\n"
          ]
        }
      ]
    },
    {
      "cell_type": "code",
      "source": [
        "class_names=['airplane','car','bird','cat','deer','dog','frog','horse','ship','truck']\n",
        "\n",
        "plt.figure(figsize=(24,3))\n",
        "plt.suptitle('CIFAR-10',fontsize=30)"
      ],
      "metadata": {
        "colab": {
          "base_uri": "https://localhost:8080/",
          "height": 54
        },
        "id": "dS3BhlN8ZvIG",
        "outputId": "fc4bef24-0dc8-4b02-85dd-8176522abb14"
      },
      "execution_count": 5,
      "outputs": [
        {
          "output_type": "execute_result",
          "data": {
            "text/plain": [
              "Text(0.5, 0.98, 'CIFAR-10')"
            ]
          },
          "metadata": {},
          "execution_count": 5
        },
        {
          "output_type": "display_data",
          "data": {
            "text/plain": [
              "<Figure size 1728x216 with 0 Axes>"
            ]
          },
          "metadata": {}
        }
      ]
    },
    {
      "cell_type": "code",
      "source": [
        "for i in range(10):\n",
        "    plt.subplot(1,10,i+1)\n",
        "    plt.imshow(x_train[i])\n",
        "    plt.xticks([]); plt.yticks([])\n",
        "    plt.title(class_names[y_train[i,0]],fontsize=12)"
      ],
      "metadata": {
        "colab": {
          "base_uri": "https://localhost:8080/",
          "height": 79
        },
        "id": "p1o9CoR5Zyat",
        "outputId": "0635e624-6f9b-439c-d923-01e653999790"
      },
      "execution_count": 6,
      "outputs": [
        {
          "output_type": "display_data",
          "data": {
            "text/plain": [
              "<Figure size 432x288 with 10 Axes>"
            ],
            "image/png": "[encoded data removed]"
          },
          "metadata": {}
        }
      ]
    },
    {
      "cell_type": "markdown",
      "source": [
        "필기 숫자 인식\n",
        "\n",
        "다층 퍼셉트론으로 MNIST 인식하기(SGD 옵티마이저)"
      ],
      "metadata": {
        "id": "JWvgYDa5Z0Fx"
      }
    },
    {
      "cell_type": "code",
      "source": [
        "import numpy as np\n",
        "import tensorflow as tf\n",
        "import tensorflow.keras.datasets as ds\n",
        "from tensorflow.keras.models import Sequential\n",
        "from tensorflow.keras.layers import Dense\n",
        "from tensorflow.keras.optimizers import SGD"
      ],
      "metadata": {
        "id": "pTPwcbx9Zv33"
      },
      "execution_count": 7,
      "outputs": []
    },
    {
      "cell_type": "code",
      "source": [
        "(x_train,y_train),(x_test,y_test)=ds.mnist.load_data()"
      ],
      "metadata": {
        "id": "zxD7ugblZ5AD"
      },
      "execution_count": 8,
      "outputs": []
    },
    {
      "cell_type": "code",
      "source": [
        "x_train=x_train.reshape(60000,784)\n",
        "x_test=x_test.reshape(10000,784)\n",
        "x_train=x_train.astype(np.float32)/255.0\n",
        "x_test=x_test.astype(np.float32)/255.0\n",
        "y_train=tf.keras.utils.to_categorical(y_train,10)\n",
        "y_test=tf.keras.utils.to_categorical(y_test,10)"
      ],
      "metadata": {
        "id": "Gq4wr5glZ6Q_"
      },
      "execution_count": 9,
      "outputs": []
    },
    {
      "cell_type": "code",
      "source": [
        "mlp=Sequential()\n",
        "mlp.add(Dense(units=512,activation='tanh',input_shape=(784,)))\n",
        "mlp.add(Dense(units=10,activation='softmax'))\n"
      ],
      "metadata": {
        "id": "sOENZj8wZ7h2"
      },
      "execution_count": 10,
      "outputs": []
    },
    {
      "cell_type": "code",
      "source": [
        "mlp.compile(loss='MSE',optimizer=SGD(learning_rate=0.01),metrics=['accuracy'])"
      ],
      "metadata": {
        "id": "VHg7qrcDZ8-7"
      },
      "execution_count": 11,
      "outputs": []
    },
    {
      "cell_type": "code",
      "source": [
        "mlp.fit(x_train,y_train,batch_size=128,epochs=50,validation_data=(x_test,y_test),verbose=2)\n"
      ],
      "metadata": {
        "colab": {
          "base_uri": "https://localhost:8080/"
        },
        "id": "PrHnEfNgZ-kl",
        "outputId": "5d359fa8-f809-46da-ec17-952bd2ab46cc"
      },
      "execution_count": 12,
      "outputs": [
        {
          "output_type": "stream",
          "name": "stdout",
          "text": [
            "Epoch 1/50\n",
            "469/469 - 4s - loss: 0.0876 - accuracy: 0.2104 - val_loss: 0.0842 - val_accuracy: 0.3102 - 4s/epoch - 8ms/step\n",
            "Epoch 2/50\n",
            "469/469 - 2s - loss: 0.0808 - accuracy: 0.3765 - val_loss: 0.0770 - val_accuracy: 0.4368 - 2s/epoch - 5ms/step\n",
            "Epoch 3/50\n",
            "469/469 - 3s - loss: 0.0737 - accuracy: 0.4850 - val_loss: 0.0698 - val_accuracy: 0.5347 - 3s/epoch - 6ms/step\n",
            "Epoch 4/50\n",
            "469/469 - 3s - loss: 0.0667 - accuracy: 0.5673 - val_loss: 0.0629 - val_accuracy: 0.6114 - 3s/epoch - 5ms/step\n",
            "Epoch 5/50\n",
            "469/469 - 3s - loss: 0.0603 - accuracy: 0.6401 - val_loss: 0.0568 - val_accuracy: 0.6806 - 3s/epoch - 6ms/step\n",
            "Epoch 6/50\n",
            "469/469 - 3s - loss: 0.0547 - accuracy: 0.6944 - val_loss: 0.0514 - val_accuracy: 0.7286 - 3s/epoch - 7ms/step\n",
            "Epoch 7/50\n",
            "469/469 - 3s - loss: 0.0499 - accuracy: 0.7312 - val_loss: 0.0470 - val_accuracy: 0.7585 - 3s/epoch - 5ms/step\n",
            "Epoch 8/50\n",
            "469/469 - 2s - loss: 0.0459 - accuracy: 0.7587 - val_loss: 0.0432 - val_accuracy: 0.7828 - 2s/epoch - 5ms/step\n",
            "Epoch 9/50\n",
            "469/469 - 3s - loss: 0.0426 - accuracy: 0.7784 - val_loss: 0.0401 - val_accuracy: 0.7989 - 3s/epoch - 6ms/step\n",
            "Epoch 10/50\n",
            "469/469 - 3s - loss: 0.0398 - accuracy: 0.7938 - val_loss: 0.0376 - val_accuracy: 0.8108 - 3s/epoch - 6ms/step\n",
            "Epoch 11/50\n",
            "469/469 - 3s - loss: 0.0375 - accuracy: 0.8051 - val_loss: 0.0354 - val_accuracy: 0.8209 - 3s/epoch - 6ms/step\n",
            "Epoch 12/50\n",
            "469/469 - 3s - loss: 0.0356 - accuracy: 0.8144 - val_loss: 0.0336 - val_accuracy: 0.8298 - 3s/epoch - 5ms/step\n",
            "Epoch 13/50\n",
            "469/469 - 3s - loss: 0.0339 - accuracy: 0.8220 - val_loss: 0.0320 - val_accuracy: 0.8352 - 3s/epoch - 6ms/step\n",
            "Epoch 14/50\n",
            "469/469 - 3s - loss: 0.0325 - accuracy: 0.8282 - val_loss: 0.0307 - val_accuracy: 0.8415 - 3s/epoch - 6ms/step\n",
            "Epoch 15/50\n",
            "469/469 - 3s - loss: 0.0312 - accuracy: 0.8337 - val_loss: 0.0295 - val_accuracy: 0.8471 - 3s/epoch - 6ms/step\n",
            "Epoch 16/50\n",
            "469/469 - 3s - loss: 0.0302 - accuracy: 0.8384 - val_loss: 0.0285 - val_accuracy: 0.8511 - 3s/epoch - 6ms/step\n",
            "Epoch 17/50\n",
            "469/469 - 4s - loss: 0.0292 - accuracy: 0.8420 - val_loss: 0.0276 - val_accuracy: 0.8561 - 4s/epoch - 9ms/step\n",
            "Epoch 18/50\n",
            "469/469 - 4s - loss: 0.0284 - accuracy: 0.8454 - val_loss: 0.0268 - val_accuracy: 0.8580 - 4s/epoch - 8ms/step\n",
            "Epoch 19/50\n",
            "469/469 - 3s - loss: 0.0276 - accuracy: 0.8481 - val_loss: 0.0261 - val_accuracy: 0.8600 - 3s/epoch - 6ms/step\n",
            "Epoch 20/50\n",
            "469/469 - 2s - loss: 0.0269 - accuracy: 0.8510 - val_loss: 0.0255 - val_accuracy: 0.8635 - 2s/epoch - 5ms/step\n",
            "Epoch 21/50\n",
            "469/469 - 2s - loss: 0.0263 - accuracy: 0.8534 - val_loss: 0.0249 - val_accuracy: 0.8654 - 2s/epoch - 5ms/step\n",
            "Epoch 22/50\n",
            "469/469 - 4s - loss: 0.0258 - accuracy: 0.8556 - val_loss: 0.0244 - val_accuracy: 0.8678 - 4s/epoch - 8ms/step\n",
            "Epoch 23/50\n",
            "469/469 - 2s - loss: 0.0252 - accuracy: 0.8579 - val_loss: 0.0239 - val_accuracy: 0.8696 - 2s/epoch - 5ms/step\n",
            "Epoch 24/50\n",
            "469/469 - 3s - loss: 0.0248 - accuracy: 0.8599 - val_loss: 0.0234 - val_accuracy: 0.8714 - 3s/epoch - 5ms/step\n",
            "Epoch 25/50\n",
            "469/469 - 3s - loss: 0.0243 - accuracy: 0.8616 - val_loss: 0.0230 - val_accuracy: 0.8732 - 3s/epoch - 5ms/step\n",
            "Epoch 26/50\n",
            "469/469 - 4s - loss: 0.0239 - accuracy: 0.8633 - val_loss: 0.0226 - val_accuracy: 0.8749 - 4s/epoch - 8ms/step\n",
            "Epoch 27/50\n",
            "469/469 - 3s - loss: 0.0236 - accuracy: 0.8645 - val_loss: 0.0223 - val_accuracy: 0.8763 - 3s/epoch - 5ms/step\n",
            "Epoch 28/50\n",
            "469/469 - 2s - loss: 0.0232 - accuracy: 0.8662 - val_loss: 0.0219 - val_accuracy: 0.8773 - 2s/epoch - 5ms/step\n",
            "Epoch 29/50\n",
            "469/469 - 2s - loss: 0.0229 - accuracy: 0.8677 - val_loss: 0.0216 - val_accuracy: 0.8786 - 2s/epoch - 5ms/step\n",
            "Epoch 30/50\n",
            "469/469 - 3s - loss: 0.0226 - accuracy: 0.8689 - val_loss: 0.0213 - val_accuracy: 0.8799 - 3s/epoch - 7ms/step\n",
            "Epoch 31/50\n",
            "469/469 - 3s - loss: 0.0223 - accuracy: 0.8696 - val_loss: 0.0211 - val_accuracy: 0.8810 - 3s/epoch - 6ms/step\n",
            "Epoch 32/50\n",
            "469/469 - 3s - loss: 0.0220 - accuracy: 0.8714 - val_loss: 0.0208 - val_accuracy: 0.8818 - 3s/epoch - 7ms/step\n",
            "Epoch 33/50\n",
            "469/469 - 3s - loss: 0.0218 - accuracy: 0.8725 - val_loss: 0.0206 - val_accuracy: 0.8832 - 3s/epoch - 6ms/step\n",
            "Epoch 34/50\n",
            "469/469 - 2s - loss: 0.0215 - accuracy: 0.8737 - val_loss: 0.0203 - val_accuracy: 0.8849 - 2s/epoch - 5ms/step\n",
            "Epoch 35/50\n",
            "469/469 - 4s - loss: 0.0213 - accuracy: 0.8747 - val_loss: 0.0201 - val_accuracy: 0.8856 - 4s/epoch - 8ms/step\n",
            "Epoch 36/50\n",
            "469/469 - 3s - loss: 0.0211 - accuracy: 0.8758 - val_loss: 0.0199 - val_accuracy: 0.8870 - 3s/epoch - 6ms/step\n",
            "Epoch 37/50\n",
            "469/469 - 3s - loss: 0.0209 - accuracy: 0.8768 - val_loss: 0.0197 - val_accuracy: 0.8874 - 3s/epoch - 5ms/step\n",
            "Epoch 38/50\n",
            "469/469 - 3s - loss: 0.0207 - accuracy: 0.8780 - val_loss: 0.0195 - val_accuracy: 0.8885 - 3s/epoch - 6ms/step\n",
            "Epoch 39/50\n",
            "469/469 - 4s - loss: 0.0205 - accuracy: 0.8789 - val_loss: 0.0194 - val_accuracy: 0.8895 - 4s/epoch - 8ms/step\n",
            "Epoch 40/50\n",
            "469/469 - 2s - loss: 0.0203 - accuracy: 0.8799 - val_loss: 0.0192 - val_accuracy: 0.8901 - 2s/epoch - 5ms/step\n",
            "Epoch 41/50\n",
            "469/469 - 3s - loss: 0.0202 - accuracy: 0.8807 - val_loss: 0.0190 - val_accuracy: 0.8908 - 3s/epoch - 7ms/step\n",
            "Epoch 42/50\n",
            "469/469 - 2s - loss: 0.0200 - accuracy: 0.8816 - val_loss: 0.0189 - val_accuracy: 0.8911 - 2s/epoch - 5ms/step\n",
            "Epoch 43/50\n",
            "469/469 - 4s - loss: 0.0198 - accuracy: 0.8823 - val_loss: 0.0187 - val_accuracy: 0.8917 - 4s/epoch - 9ms/step\n",
            "Epoch 44/50\n",
            "469/469 - 2s - loss: 0.0197 - accuracy: 0.8831 - val_loss: 0.0186 - val_accuracy: 0.8929 - 2s/epoch - 5ms/step\n",
            "Epoch 45/50\n",
            "469/469 - 3s - loss: 0.0195 - accuracy: 0.8836 - val_loss: 0.0184 - val_accuracy: 0.8938 - 3s/epoch - 6ms/step\n",
            "Epoch 46/50\n",
            "469/469 - 2s - loss: 0.0194 - accuracy: 0.8843 - val_loss: 0.0183 - val_accuracy: 0.8943 - 2s/epoch - 5ms/step\n",
            "Epoch 47/50\n",
            "469/469 - 3s - loss: 0.0193 - accuracy: 0.8851 - val_loss: 0.0182 - val_accuracy: 0.8951 - 3s/epoch - 6ms/step\n",
            "Epoch 48/50\n",
            "469/469 - 3s - loss: 0.0191 - accuracy: 0.8857 - val_loss: 0.0181 - val_accuracy: 0.8953 - 3s/epoch - 5ms/step\n",
            "Epoch 49/50\n",
            "469/469 - 3s - loss: 0.0190 - accuracy: 0.8866 - val_loss: 0.0179 - val_accuracy: 0.8958 - 3s/epoch - 5ms/step\n",
            "Epoch 50/50\n",
            "469/469 - 3s - loss: 0.0189 - accuracy: 0.8872 - val_loss: 0.0178 - val_accuracy: 0.8961 - 3s/epoch - 6ms/step\n"
          ]
        },
        {
          "output_type": "execute_result",
          "data": {
            "text/plain": [
              "<keras.callbacks.History at 0x7f3fc3450160>"
            ]
          },
          "metadata": {},
          "execution_count": 12
        }
      ]
    },
    {
      "cell_type": "code",
      "source": [
        "res=mlp.evaluate(x_test,y_test,verbose=0)\n",
        "print('정확률=',res[1]*100)\n"
      ],
      "metadata": {
        "colab": {
          "base_uri": "https://localhost:8080/"
        },
        "id": "YYiKmpsIaAHN",
        "outputId": "fc910dfa-8c10-4bf2-fb62-54c1ed36a704"
      },
      "execution_count": 13,
      "outputs": [
        {
          "output_type": "stream",
          "name": "stdout",
          "text": [
            "정확률= 89.60999846458435\n"
          ]
        }
      ]
    },
    {
      "cell_type": "markdown",
      "source": [
        "Adam 옵티마이저를 사용하여 성능 향상"
      ],
      "metadata": {
        "id": "cDPh6Q3laCm9"
      }
    },
    {
      "cell_type": "code",
      "source": [
        "import numpy as np\n",
        "import tensorflow as tf\n",
        "import tensorflow.keras.datasets as ds\n",
        "from tensorflow.keras.models import Sequential\n",
        "from tensorflow.keras.layers import Dense\n",
        "from tensorflow.keras.optimizers import Adam\n"
      ],
      "metadata": {
        "id": "c3RtHvGMaEwf"
      },
      "execution_count": 14,
      "outputs": []
    },
    {
      "cell_type": "code",
      "source": [
        "(x_train,y_train),(x_test,y_test)=ds.mnist.load_data()"
      ],
      "metadata": {
        "id": "LzcmtucAaGSp"
      },
      "execution_count": 15,
      "outputs": []
    },
    {
      "cell_type": "code",
      "source": [
        "x_train=x_train.reshape(60000,784)\n",
        "x_test=x_test.reshape(10000,784)\n",
        "x_train=x_train.astype(np.float32)/255.0\n",
        "x_test=x_test.astype(np.float32)/255.0\n",
        "y_train=tf.keras.utils.to_categorical(y_train,10)\n",
        "y_test=tf.keras.utils.to_categorical(y_test,10)"
      ],
      "metadata": {
        "id": "b9EbzHdcaHXD"
      },
      "execution_count": 16,
      "outputs": []
    },
    {
      "cell_type": "code",
      "source": [
        "mlp=Sequential()\n",
        "mlp.add(Dense(units=512,activation='tanh',input_shape=(784,)))\n",
        "mlp.add(Dense(units=10,activation='softmax'))\n"
      ],
      "metadata": {
        "id": "gB3YqCD9aI5l"
      },
      "execution_count": 17,
      "outputs": []
    },
    {
      "cell_type": "code",
      "source": [
        "mlp.compile(loss='MSE',optimizer=Adam(learning_rate=0.001),metrics=['accuracy'])\n"
      ],
      "metadata": {
        "id": "NR9xYpZcaKN3"
      },
      "execution_count": 18,
      "outputs": []
    },
    {
      "cell_type": "code",
      "source": [
        "mlp.fit(x_train,y_train,batch_size=128,epochs=50,validation_data=(x_test,y_test),verbose=2)\n"
      ],
      "metadata": {
        "colab": {
          "base_uri": "https://localhost:8080/"
        },
        "id": "ZhIbO3h8aLc1",
        "outputId": "e0ef8f38-16cb-4f61-acd7-024db6b72d16"
      },
      "execution_count": 19,
      "outputs": [
        {
          "output_type": "stream",
          "name": "stdout",
          "text": [
            "Epoch 1/50\n",
            "469/469 - 4s - loss: 0.0150 - accuracy: 0.9008 - val_loss: 0.0107 - val_accuracy: 0.9309 - 4s/epoch - 9ms/step\n",
            "Epoch 2/50\n",
            "469/469 - 3s - loss: 0.0090 - accuracy: 0.9423 - val_loss: 0.0073 - val_accuracy: 0.9529 - 3s/epoch - 6ms/step\n",
            "Epoch 3/50\n",
            "469/469 - 3s - loss: 0.0066 - accuracy: 0.9586 - val_loss: 0.0062 - val_accuracy: 0.9587 - 3s/epoch - 7ms/step\n",
            "Epoch 4/50\n",
            "469/469 - 4s - loss: 0.0052 - accuracy: 0.9677 - val_loss: 0.0051 - val_accuracy: 0.9678 - 4s/epoch - 8ms/step\n",
            "Epoch 5/50\n",
            "469/469 - 3s - loss: 0.0042 - accuracy: 0.9745 - val_loss: 0.0049 - val_accuracy: 0.9674 - 3s/epoch - 7ms/step\n",
            "Epoch 6/50\n",
            "469/469 - 3s - loss: 0.0035 - accuracy: 0.9790 - val_loss: 0.0043 - val_accuracy: 0.9720 - 3s/epoch - 6ms/step\n",
            "Epoch 7/50\n",
            "469/469 - 3s - loss: 0.0030 - accuracy: 0.9821 - val_loss: 0.0038 - val_accuracy: 0.9748 - 3s/epoch - 7ms/step\n",
            "Epoch 8/50\n",
            "469/469 - 4s - loss: 0.0025 - accuracy: 0.9859 - val_loss: 0.0036 - val_accuracy: 0.9772 - 4s/epoch - 8ms/step\n",
            "Epoch 9/50\n",
            "469/469 - 4s - loss: 0.0021 - accuracy: 0.9880 - val_loss: 0.0036 - val_accuracy: 0.9752 - 4s/epoch - 8ms/step\n",
            "Epoch 10/50\n",
            "469/469 - 4s - loss: 0.0018 - accuracy: 0.9900 - val_loss: 0.0033 - val_accuracy: 0.9786 - 4s/epoch - 8ms/step\n",
            "Epoch 11/50\n",
            "469/469 - 4s - loss: 0.0015 - accuracy: 0.9916 - val_loss: 0.0033 - val_accuracy: 0.9784 - 4s/epoch - 8ms/step\n",
            "Epoch 12/50\n",
            "469/469 - 3s - loss: 0.0013 - accuracy: 0.9926 - val_loss: 0.0031 - val_accuracy: 0.9799 - 3s/epoch - 7ms/step\n",
            "Epoch 13/50\n",
            "469/469 - 5s - loss: 0.0011 - accuracy: 0.9940 - val_loss: 0.0031 - val_accuracy: 0.9799 - 5s/epoch - 10ms/step\n",
            "Epoch 14/50\n",
            "469/469 - 4s - loss: 9.8259e-04 - accuracy: 0.9947 - val_loss: 0.0033 - val_accuracy: 0.9782 - 4s/epoch - 8ms/step\n",
            "Epoch 15/50\n",
            "469/469 - 3s - loss: 8.5009e-04 - accuracy: 0.9954 - val_loss: 0.0031 - val_accuracy: 0.9806 - 3s/epoch - 7ms/step\n",
            "Epoch 16/50\n",
            "469/469 - 3s - loss: 7.2539e-04 - accuracy: 0.9963 - val_loss: 0.0032 - val_accuracy: 0.9800 - 3s/epoch - 7ms/step\n",
            "Epoch 17/50\n",
            "469/469 - 3s - loss: 7.0498e-04 - accuracy: 0.9964 - val_loss: 0.0030 - val_accuracy: 0.9808 - 3s/epoch - 7ms/step\n",
            "Epoch 18/50\n",
            "469/469 - 4s - loss: 5.4690e-04 - accuracy: 0.9973 - val_loss: 0.0030 - val_accuracy: 0.9803 - 4s/epoch - 9ms/step\n",
            "Epoch 19/50\n",
            "469/469 - 3s - loss: 5.4258e-04 - accuracy: 0.9973 - val_loss: 0.0031 - val_accuracy: 0.9798 - 3s/epoch - 7ms/step\n",
            "Epoch 20/50\n",
            "469/469 - 4s - loss: 5.1721e-04 - accuracy: 0.9975 - val_loss: 0.0032 - val_accuracy: 0.9797 - 4s/epoch - 8ms/step\n",
            "Epoch 21/50\n",
            "469/469 - 4s - loss: 4.6683e-04 - accuracy: 0.9976 - val_loss: 0.0030 - val_accuracy: 0.9805 - 4s/epoch - 9ms/step\n",
            "Epoch 22/50\n",
            "469/469 - 3s - loss: 5.1595e-04 - accuracy: 0.9973 - val_loss: 0.0035 - val_accuracy: 0.9774 - 3s/epoch - 7ms/step\n",
            "Epoch 23/50\n",
            "469/469 - 3s - loss: 4.0600e-04 - accuracy: 0.9980 - val_loss: 0.0029 - val_accuracy: 0.9814 - 3s/epoch - 7ms/step\n",
            "Epoch 24/50\n",
            "469/469 - 4s - loss: 3.0489e-04 - accuracy: 0.9986 - val_loss: 0.0028 - val_accuracy: 0.9823 - 4s/epoch - 8ms/step\n",
            "Epoch 25/50\n",
            "469/469 - 3s - loss: 3.1908e-04 - accuracy: 0.9983 - val_loss: 0.0029 - val_accuracy: 0.9819 - 3s/epoch - 6ms/step\n",
            "Epoch 26/50\n",
            "469/469 - 4s - loss: 3.9812e-04 - accuracy: 0.9980 - val_loss: 0.0034 - val_accuracy: 0.9780 - 4s/epoch - 8ms/step\n",
            "Epoch 27/50\n",
            "469/469 - 3s - loss: 4.6019e-04 - accuracy: 0.9976 - val_loss: 0.0031 - val_accuracy: 0.9800 - 3s/epoch - 6ms/step\n",
            "Epoch 28/50\n",
            "469/469 - 3s - loss: 2.9742e-04 - accuracy: 0.9984 - val_loss: 0.0029 - val_accuracy: 0.9818 - 3s/epoch - 7ms/step\n",
            "Epoch 29/50\n",
            "469/469 - 3s - loss: 3.1244e-04 - accuracy: 0.9984 - val_loss: 0.0037 - val_accuracy: 0.9769 - 3s/epoch - 7ms/step\n",
            "Epoch 30/50\n",
            "469/469 - 3s - loss: 3.3362e-04 - accuracy: 0.9982 - val_loss: 0.0034 - val_accuracy: 0.9781 - 3s/epoch - 6ms/step\n",
            "Epoch 31/50\n",
            "469/469 - 3s - loss: 3.2940e-04 - accuracy: 0.9983 - val_loss: 0.0032 - val_accuracy: 0.9805 - 3s/epoch - 7ms/step\n",
            "Epoch 32/50\n",
            "469/469 - 3s - loss: 2.9641e-04 - accuracy: 0.9985 - val_loss: 0.0029 - val_accuracy: 0.9824 - 3s/epoch - 7ms/step\n",
            "Epoch 33/50\n",
            "469/469 - 3s - loss: 2.4260e-04 - accuracy: 0.9988 - val_loss: 0.0031 - val_accuracy: 0.9800 - 3s/epoch - 7ms/step\n",
            "Epoch 34/50\n",
            "469/469 - 4s - loss: 2.7999e-04 - accuracy: 0.9984 - val_loss: 0.0033 - val_accuracy: 0.9792 - 4s/epoch - 8ms/step\n",
            "Epoch 35/50\n",
            "469/469 - 4s - loss: 3.7253e-04 - accuracy: 0.9978 - val_loss: 0.0032 - val_accuracy: 0.9802 - 4s/epoch - 9ms/step\n",
            "Epoch 36/50\n",
            "469/469 - 3s - loss: 2.0335e-04 - accuracy: 0.9990 - val_loss: 0.0029 - val_accuracy: 0.9820 - 3s/epoch - 6ms/step\n",
            "Epoch 37/50\n",
            "469/469 - 3s - loss: 1.6624e-04 - accuracy: 0.9991 - val_loss: 0.0029 - val_accuracy: 0.9827 - 3s/epoch - 7ms/step\n",
            "Epoch 38/50\n",
            "469/469 - 5s - loss: 2.3406e-04 - accuracy: 0.9987 - val_loss: 0.0032 - val_accuracy: 0.9797 - 5s/epoch - 10ms/step\n",
            "Epoch 39/50\n",
            "469/469 - 4s - loss: 2.8686e-04 - accuracy: 0.9984 - val_loss: 0.0031 - val_accuracy: 0.9798 - 4s/epoch - 8ms/step\n",
            "Epoch 40/50\n",
            "469/469 - 3s - loss: 2.7774e-04 - accuracy: 0.9985 - val_loss: 0.0033 - val_accuracy: 0.9798 - 3s/epoch - 6ms/step\n",
            "Epoch 41/50\n",
            "469/469 - 5s - loss: 2.5393e-04 - accuracy: 0.9986 - val_loss: 0.0029 - val_accuracy: 0.9816 - 5s/epoch - 11ms/step\n",
            "Epoch 42/50\n",
            "469/469 - 3s - loss: 2.0332e-04 - accuracy: 0.9990 - val_loss: 0.0029 - val_accuracy: 0.9815 - 3s/epoch - 7ms/step\n",
            "Epoch 43/50\n",
            "469/469 - 4s - loss: 2.6112e-04 - accuracy: 0.9986 - val_loss: 0.0032 - val_accuracy: 0.9805 - 4s/epoch - 8ms/step\n",
            "Epoch 44/50\n",
            "469/469 - 4s - loss: 1.6540e-04 - accuracy: 0.9992 - val_loss: 0.0028 - val_accuracy: 0.9826 - 4s/epoch - 8ms/step\n",
            "Epoch 45/50\n",
            "469/469 - 3s - loss: 1.8984e-04 - accuracy: 0.9990 - val_loss: 0.0030 - val_accuracy: 0.9815 - 3s/epoch - 7ms/step\n",
            "Epoch 46/50\n",
            "469/469 - 3s - loss: 3.8191e-04 - accuracy: 0.9979 - val_loss: 0.0032 - val_accuracy: 0.9800 - 3s/epoch - 7ms/step\n",
            "Epoch 47/50\n",
            "469/469 - 3s - loss: 1.9514e-04 - accuracy: 0.9990 - val_loss: 0.0029 - val_accuracy: 0.9822 - 3s/epoch - 6ms/step\n",
            "Epoch 48/50\n",
            "469/469 - 4s - loss: 1.6642e-04 - accuracy: 0.9991 - val_loss: 0.0031 - val_accuracy: 0.9809 - 4s/epoch - 9ms/step\n",
            "Epoch 49/50\n",
            "469/469 - 4s - loss: 2.0387e-04 - accuracy: 0.9990 - val_loss: 0.0033 - val_accuracy: 0.9797 - 4s/epoch - 8ms/step\n",
            "Epoch 50/50\n",
            "469/469 - 4s - loss: 3.1624e-04 - accuracy: 0.9983 - val_loss: 0.0030 - val_accuracy: 0.9810 - 4s/epoch - 8ms/step\n"
          ]
        },
        {
          "output_type": "execute_result",
          "data": {
            "text/plain": [
              "<keras.callbacks.History at 0x7f3fb1a0d400>"
            ]
          },
          "metadata": {},
          "execution_count": 19
        }
      ]
    },
    {
      "cell_type": "code",
      "source": [
        "res=mlp.evaluate(x_test,y_test,verbose=0)\n",
        "print('정확률=',res[1]*100)"
      ],
      "metadata": {
        "colab": {
          "base_uri": "https://localhost:8080/"
        },
        "id": "uTLZRLiLaNEu",
        "outputId": "f2d5500b-4a45-47c9-f200-2e06a98f8bc9"
      },
      "execution_count": 20,
      "outputs": [
        {
          "output_type": "stream",
          "name": "stdout",
          "text": [
            "정확률= 98.1000006198883\n"
          ]
        }
      ]
    },
    {
      "cell_type": "markdown",
      "source": [
        "성능 시각화\n",
        "\n",
        "SGD와 Adam 성능을 그래프로 비교"
      ],
      "metadata": {
        "id": "_MQy8NqiaPoF"
      }
    },
    {
      "cell_type": "code",
      "source": [
        "import numpy as np\n",
        "import tensorflow as tf\n",
        "import tensorflow.keras.datasets as ds\n",
        "from tensorflow.keras.models import Sequential\n",
        "from tensorflow.keras.layers import Dense\n",
        "from tensorflow.keras.optimizers import SGD, Adam"
      ],
      "metadata": {
        "id": "LxNk8fG4aScr"
      },
      "execution_count": 21,
      "outputs": []
    },
    {
      "cell_type": "code",
      "source": [
        "(x_train,y_train),(x_test,y_test)=ds.mnist.load_data()"
      ],
      "metadata": {
        "id": "wDchkbS6aU7Q"
      },
      "execution_count": 22,
      "outputs": []
    },
    {
      "cell_type": "code",
      "source": [
        "x_train=x_train.reshape(60000,784)\n",
        "x_test=x_test.reshape(10000,784)\n",
        "x_train=x_train.astype(np.float32)/255.0\n",
        "x_test=x_test.astype(np.float32)/255.0\n",
        "y_train=tf.keras.utils.to_categorical(y_train,10)\n",
        "y_test=tf.keras.utils.to_categorical(y_test,10)\n"
      ],
      "metadata": {
        "id": "bVvaERGMaW8Q"
      },
      "execution_count": 23,
      "outputs": []
    },
    {
      "cell_type": "code",
      "source": [
        "mlp_sgd=Sequential()\n",
        "mlp_sgd.add(Dense(units=512,activation='tanh',input_shape=(784,)))\n",
        "mlp_sgd.add(Dense(units=10,activation='softmax'))"
      ],
      "metadata": {
        "id": "KRlwQvtTaYMy"
      },
      "execution_count": 24,
      "outputs": []
    },
    {
      "cell_type": "code",
      "source": [
        "mlp_sgd.compile(loss='MSE',optimizer=SGD(learning_rate=0.01),metrics=['accuracy'])"
      ],
      "metadata": {
        "id": "8uvh1ybuaZq4"
      },
      "execution_count": 25,
      "outputs": []
    },
    {
      "cell_type": "code",
      "source": [
        "hist_sgd=mlp_sgd.fit(x_train,y_train,batch_size=128,epochs=50,validation_data=(x_test,y_test),verbose=2)\n"
      ],
      "metadata": {
        "colab": {
          "base_uri": "https://localhost:8080/"
        },
        "id": "oaC-4WOpaa8c",
        "outputId": "4ef21b02-21f5-46f5-de8e-c09ab7762a04"
      },
      "execution_count": 26,
      "outputs": [
        {
          "output_type": "stream",
          "name": "stdout",
          "text": [
            "Epoch 1/50\n",
            "469/469 - 3s - loss: 0.0871 - accuracy: 0.2304 - val_loss: 0.0832 - val_accuracy: 0.3054 - 3s/epoch - 6ms/step\n",
            "Epoch 2/50\n",
            "469/469 - 3s - loss: 0.0800 - accuracy: 0.3521 - val_loss: 0.0765 - val_accuracy: 0.4121 - 3s/epoch - 6ms/step\n",
            "Epoch 3/50\n",
            "469/469 - 3s - loss: 0.0736 - accuracy: 0.4578 - val_loss: 0.0701 - val_accuracy: 0.5068 - 3s/epoch - 7ms/step\n",
            "Epoch 4/50\n",
            "469/469 - 3s - loss: 0.0675 - accuracy: 0.5335 - val_loss: 0.0639 - val_accuracy: 0.5734 - 3s/epoch - 6ms/step\n",
            "Epoch 5/50\n",
            "469/469 - 3s - loss: 0.0617 - accuracy: 0.6037 - val_loss: 0.0581 - val_accuracy: 0.6496 - 3s/epoch - 6ms/step\n",
            "Epoch 6/50\n",
            "469/469 - 3s - loss: 0.0562 - accuracy: 0.6716 - val_loss: 0.0528 - val_accuracy: 0.7076 - 3s/epoch - 6ms/step\n",
            "Epoch 7/50\n",
            "469/469 - 3s - loss: 0.0514 - accuracy: 0.7171 - val_loss: 0.0481 - val_accuracy: 0.7464 - 3s/epoch - 6ms/step\n",
            "Epoch 8/50\n",
            "469/469 - 3s - loss: 0.0472 - accuracy: 0.7492 - val_loss: 0.0443 - val_accuracy: 0.7767 - 3s/epoch - 6ms/step\n",
            "Epoch 9/50\n",
            "469/469 - 3s - loss: 0.0437 - accuracy: 0.7721 - val_loss: 0.0410 - val_accuracy: 0.7956 - 3s/epoch - 6ms/step\n",
            "Epoch 10/50\n",
            "469/469 - 3s - loss: 0.0408 - accuracy: 0.7898 - val_loss: 0.0382 - val_accuracy: 0.8105 - 3s/epoch - 6ms/step\n",
            "Epoch 11/50\n",
            "469/469 - 2s - loss: 0.0383 - accuracy: 0.8045 - val_loss: 0.0359 - val_accuracy: 0.8242 - 2s/epoch - 5ms/step\n",
            "Epoch 12/50\n",
            "469/469 - 3s - loss: 0.0362 - accuracy: 0.8156 - val_loss: 0.0340 - val_accuracy: 0.8347 - 3s/epoch - 7ms/step\n",
            "Epoch 13/50\n",
            "469/469 - 3s - loss: 0.0344 - accuracy: 0.8239 - val_loss: 0.0323 - val_accuracy: 0.8415 - 3s/epoch - 5ms/step\n",
            "Epoch 14/50\n",
            "469/469 - 2s - loss: 0.0329 - accuracy: 0.8312 - val_loss: 0.0308 - val_accuracy: 0.8470 - 2s/epoch - 5ms/step\n",
            "Epoch 15/50\n",
            "469/469 - 2s - loss: 0.0315 - accuracy: 0.8371 - val_loss: 0.0296 - val_accuracy: 0.8516 - 2s/epoch - 5ms/step\n",
            "Epoch 16/50\n",
            "469/469 - 3s - loss: 0.0304 - accuracy: 0.8415 - val_loss: 0.0285 - val_accuracy: 0.8566 - 3s/epoch - 6ms/step\n",
            "Epoch 17/50\n",
            "469/469 - 2s - loss: 0.0293 - accuracy: 0.8461 - val_loss: 0.0275 - val_accuracy: 0.8597 - 2s/epoch - 5ms/step\n",
            "Epoch 18/50\n",
            "469/469 - 2s - loss: 0.0284 - accuracy: 0.8496 - val_loss: 0.0267 - val_accuracy: 0.8632 - 2s/epoch - 5ms/step\n",
            "Epoch 19/50\n",
            "469/469 - 3s - loss: 0.0276 - accuracy: 0.8525 - val_loss: 0.0259 - val_accuracy: 0.8657 - 3s/epoch - 5ms/step\n",
            "Epoch 20/50\n",
            "469/469 - 2s - loss: 0.0269 - accuracy: 0.8553 - val_loss: 0.0252 - val_accuracy: 0.8677 - 2s/epoch - 5ms/step\n",
            "Epoch 21/50\n",
            "469/469 - 3s - loss: 0.0262 - accuracy: 0.8577 - val_loss: 0.0246 - val_accuracy: 0.8701 - 3s/epoch - 6ms/step\n",
            "Epoch 22/50\n",
            "469/469 - 2s - loss: 0.0256 - accuracy: 0.8602 - val_loss: 0.0241 - val_accuracy: 0.8723 - 2s/epoch - 5ms/step\n",
            "Epoch 23/50\n",
            "469/469 - 2s - loss: 0.0251 - accuracy: 0.8626 - val_loss: 0.0236 - val_accuracy: 0.8735 - 2s/epoch - 5ms/step\n",
            "Epoch 24/50\n",
            "469/469 - 3s - loss: 0.0246 - accuracy: 0.8645 - val_loss: 0.0231 - val_accuracy: 0.8749 - 3s/epoch - 6ms/step\n",
            "Epoch 25/50\n",
            "469/469 - 3s - loss: 0.0242 - accuracy: 0.8663 - val_loss: 0.0227 - val_accuracy: 0.8760 - 3s/epoch - 6ms/step\n",
            "Epoch 26/50\n",
            "469/469 - 3s - loss: 0.0237 - accuracy: 0.8682 - val_loss: 0.0223 - val_accuracy: 0.8777 - 3s/epoch - 5ms/step\n",
            "Epoch 27/50\n",
            "469/469 - 2s - loss: 0.0233 - accuracy: 0.8695 - val_loss: 0.0219 - val_accuracy: 0.8785 - 2s/epoch - 5ms/step\n",
            "Epoch 28/50\n",
            "469/469 - 2s - loss: 0.0230 - accuracy: 0.8711 - val_loss: 0.0216 - val_accuracy: 0.8791 - 2s/epoch - 5ms/step\n",
            "Epoch 29/50\n",
            "469/469 - 3s - loss: 0.0227 - accuracy: 0.8723 - val_loss: 0.0213 - val_accuracy: 0.8804 - 3s/epoch - 5ms/step\n",
            "Epoch 30/50\n",
            "469/469 - 3s - loss: 0.0223 - accuracy: 0.8734 - val_loss: 0.0210 - val_accuracy: 0.8814 - 3s/epoch - 7ms/step\n",
            "Epoch 31/50\n",
            "469/469 - 2s - loss: 0.0220 - accuracy: 0.8746 - val_loss: 0.0207 - val_accuracy: 0.8831 - 2s/epoch - 5ms/step\n",
            "Epoch 32/50\n",
            "469/469 - 2s - loss: 0.0218 - accuracy: 0.8756 - val_loss: 0.0205 - val_accuracy: 0.8843 - 2s/epoch - 5ms/step\n",
            "Epoch 33/50\n",
            "469/469 - 2s - loss: 0.0215 - accuracy: 0.8769 - val_loss: 0.0202 - val_accuracy: 0.8848 - 2s/epoch - 5ms/step\n",
            "Epoch 34/50\n",
            "469/469 - 3s - loss: 0.0213 - accuracy: 0.8779 - val_loss: 0.0200 - val_accuracy: 0.8859 - 3s/epoch - 5ms/step\n",
            "Epoch 35/50\n",
            "469/469 - 3s - loss: 0.0210 - accuracy: 0.8790 - val_loss: 0.0198 - val_accuracy: 0.8867 - 3s/epoch - 6ms/step\n",
            "Epoch 36/50\n",
            "469/469 - 2s - loss: 0.0208 - accuracy: 0.8797 - val_loss: 0.0196 - val_accuracy: 0.8875 - 2s/epoch - 5ms/step\n",
            "Epoch 37/50\n",
            "469/469 - 2s - loss: 0.0206 - accuracy: 0.8806 - val_loss: 0.0194 - val_accuracy: 0.8880 - 2s/epoch - 5ms/step\n",
            "Epoch 38/50\n",
            "469/469 - 3s - loss: 0.0204 - accuracy: 0.8812 - val_loss: 0.0192 - val_accuracy: 0.8890 - 3s/epoch - 5ms/step\n",
            "Epoch 39/50\n",
            "469/469 - 3s - loss: 0.0202 - accuracy: 0.8821 - val_loss: 0.0190 - val_accuracy: 0.8900 - 3s/epoch - 7ms/step\n",
            "Epoch 40/50\n",
            "469/469 - 3s - loss: 0.0200 - accuracy: 0.8829 - val_loss: 0.0189 - val_accuracy: 0.8910 - 3s/epoch - 5ms/step\n",
            "Epoch 41/50\n",
            "469/469 - 3s - loss: 0.0199 - accuracy: 0.8835 - val_loss: 0.0187 - val_accuracy: 0.8920 - 3s/epoch - 5ms/step\n",
            "Epoch 42/50\n",
            "469/469 - 2s - loss: 0.0197 - accuracy: 0.8844 - val_loss: 0.0185 - val_accuracy: 0.8925 - 2s/epoch - 5ms/step\n",
            "Epoch 43/50\n",
            "469/469 - 2s - loss: 0.0196 - accuracy: 0.8848 - val_loss: 0.0184 - val_accuracy: 0.8932 - 2s/epoch - 5ms/step\n",
            "Epoch 44/50\n",
            "469/469 - 3s - loss: 0.0194 - accuracy: 0.8858 - val_loss: 0.0183 - val_accuracy: 0.8939 - 3s/epoch - 6ms/step\n",
            "Epoch 45/50\n",
            "469/469 - 3s - loss: 0.0193 - accuracy: 0.8863 - val_loss: 0.0181 - val_accuracy: 0.8946 - 3s/epoch - 6ms/step\n",
            "Epoch 46/50\n",
            "469/469 - 3s - loss: 0.0191 - accuracy: 0.8870 - val_loss: 0.0180 - val_accuracy: 0.8948 - 3s/epoch - 6ms/step\n",
            "Epoch 47/50\n",
            "469/469 - 2s - loss: 0.0190 - accuracy: 0.8876 - val_loss: 0.0179 - val_accuracy: 0.8952 - 2s/epoch - 5ms/step\n",
            "Epoch 48/50\n",
            "469/469 - 3s - loss: 0.0189 - accuracy: 0.8883 - val_loss: 0.0177 - val_accuracy: 0.8957 - 3s/epoch - 6ms/step\n",
            "Epoch 49/50\n",
            "469/469 - 2s - loss: 0.0187 - accuracy: 0.8889 - val_loss: 0.0176 - val_accuracy: 0.8966 - 2s/epoch - 5ms/step\n",
            "Epoch 50/50\n",
            "469/469 - 3s - loss: 0.0186 - accuracy: 0.8899 - val_loss: 0.0175 - val_accuracy: 0.8968 - 3s/epoch - 5ms/step\n"
          ]
        }
      ]
    },
    {
      "cell_type": "code",
      "source": [
        "print('SGD 정확률=',mlp_sgd.evaluate(x_test,y_test,verbose=0)[1]*100)"
      ],
      "metadata": {
        "colab": {
          "base_uri": "https://localhost:8080/"
        },
        "id": "jr-kYqZlacib",
        "outputId": "847708bd-5376-4447-f441-ffb7a65310c1"
      },
      "execution_count": 27,
      "outputs": [
        {
          "output_type": "stream",
          "name": "stdout",
          "text": [
            "SGD 정확률= 89.67999815940857\n"
          ]
        }
      ]
    },
    {
      "cell_type": "code",
      "source": [
        "mlp_adam=Sequential()\n",
        "mlp_adam.add(Dense(units=512,activation='tanh',input_shape=(784,)))\n",
        "mlp_adam.add(Dense(units=10,activation='softmax'))"
      ],
      "metadata": {
        "id": "zdYruiU0aeXL"
      },
      "execution_count": 28,
      "outputs": []
    },
    {
      "cell_type": "code",
      "source": [
        "mlp_adam.compile(loss='MSE',optimizer=Adam(learning_rate=0.001),metrics=['accuracy'])"
      ],
      "metadata": {
        "id": "nAK-e-s9ahCS"
      },
      "execution_count": 29,
      "outputs": []
    },
    {
      "cell_type": "code",
      "source": [
        "hist_adam=mlp_adam.fit(x_train,y_train,batch_size=128,epochs=50,validation_data=(x_test,y_test),verbose=2)\n"
      ],
      "metadata": {
        "id": "IkKMShtPaiEl",
        "colab": {
          "base_uri": "https://localhost:8080/"
        },
        "outputId": "bd543ca5-1f95-46a3-ffb9-a55e15f7be07"
      },
      "execution_count": 30,
      "outputs": [
        {
          "output_type": "stream",
          "name": "stdout",
          "text": [
            "Epoch 1/50\n",
            "469/469 - 4s - loss: 0.0146 - accuracy: 0.9043 - val_loss: 0.0107 - val_accuracy: 0.9301 - 4s/epoch - 8ms/step\n",
            "Epoch 2/50\n",
            "469/469 - 4s - loss: 0.0089 - accuracy: 0.9434 - val_loss: 0.0081 - val_accuracy: 0.9476 - 4s/epoch - 8ms/step\n",
            "Epoch 3/50\n",
            "469/469 - 3s - loss: 0.0065 - accuracy: 0.9592 - val_loss: 0.0061 - val_accuracy: 0.9606 - 3s/epoch - 7ms/step\n",
            "Epoch 4/50\n",
            "469/469 - 3s - loss: 0.0050 - accuracy: 0.9690 - val_loss: 0.0050 - val_accuracy: 0.9670 - 3s/epoch - 6ms/step\n",
            "Epoch 5/50\n",
            "469/469 - 3s - loss: 0.0040 - accuracy: 0.9758 - val_loss: 0.0043 - val_accuracy: 0.9735 - 3s/epoch - 7ms/step\n",
            "Epoch 6/50\n",
            "469/469 - 4s - loss: 0.0034 - accuracy: 0.9797 - val_loss: 0.0043 - val_accuracy: 0.9727 - 4s/epoch - 8ms/step\n",
            "Epoch 7/50\n",
            "469/469 - 3s - loss: 0.0028 - accuracy: 0.9834 - val_loss: 0.0038 - val_accuracy: 0.9746 - 3s/epoch - 6ms/step\n",
            "Epoch 8/50\n",
            "469/469 - 3s - loss: 0.0023 - accuracy: 0.9863 - val_loss: 0.0042 - val_accuracy: 0.9735 - 3s/epoch - 7ms/step\n",
            "Epoch 9/50\n",
            "469/469 - 4s - loss: 0.0020 - accuracy: 0.9884 - val_loss: 0.0034 - val_accuracy: 0.9784 - 4s/epoch - 8ms/step\n",
            "Epoch 10/50\n",
            "469/469 - 3s - loss: 0.0018 - accuracy: 0.9901 - val_loss: 0.0039 - val_accuracy: 0.9752 - 3s/epoch - 7ms/step\n",
            "Epoch 11/50\n",
            "469/469 - 3s - loss: 0.0015 - accuracy: 0.9921 - val_loss: 0.0035 - val_accuracy: 0.9777 - 3s/epoch - 6ms/step\n",
            "Epoch 12/50\n",
            "469/469 - 3s - loss: 0.0013 - accuracy: 0.9925 - val_loss: 0.0037 - val_accuracy: 0.9765 - 3s/epoch - 7ms/step\n",
            "Epoch 13/50\n",
            "469/469 - 4s - loss: 0.0011 - accuracy: 0.9938 - val_loss: 0.0035 - val_accuracy: 0.9765 - 4s/epoch - 8ms/step\n",
            "Epoch 14/50\n",
            "469/469 - 3s - loss: 8.8997e-04 - accuracy: 0.9955 - val_loss: 0.0037 - val_accuracy: 0.9769 - 3s/epoch - 6ms/step\n",
            "Epoch 15/50\n",
            "469/469 - 3s - loss: 7.8216e-04 - accuracy: 0.9960 - val_loss: 0.0032 - val_accuracy: 0.9787 - 3s/epoch - 6ms/step\n",
            "Epoch 16/50\n",
            "469/469 - 3s - loss: 7.3866e-04 - accuracy: 0.9962 - val_loss: 0.0032 - val_accuracy: 0.9794 - 3s/epoch - 7ms/step\n",
            "Epoch 17/50\n",
            "469/469 - 3s - loss: 6.2403e-04 - accuracy: 0.9970 - val_loss: 0.0031 - val_accuracy: 0.9797 - 3s/epoch - 7ms/step\n",
            "Epoch 18/50\n",
            "469/469 - 3s - loss: 5.5013e-04 - accuracy: 0.9972 - val_loss: 0.0031 - val_accuracy: 0.9800 - 3s/epoch - 6ms/step\n",
            "Epoch 19/50\n",
            "469/469 - 3s - loss: 4.9122e-04 - accuracy: 0.9976 - val_loss: 0.0031 - val_accuracy: 0.9802 - 3s/epoch - 6ms/step\n",
            "Epoch 20/50\n",
            "469/469 - 3s - loss: 4.3014e-04 - accuracy: 0.9979 - val_loss: 0.0032 - val_accuracy: 0.9791 - 3s/epoch - 6ms/step\n",
            "Epoch 21/50\n",
            "469/469 - 3s - loss: 4.5492e-04 - accuracy: 0.9976 - val_loss: 0.0031 - val_accuracy: 0.9801 - 3s/epoch - 7ms/step\n",
            "Epoch 22/50\n",
            "469/469 - 3s - loss: 4.4862e-04 - accuracy: 0.9977 - val_loss: 0.0031 - val_accuracy: 0.9788 - 3s/epoch - 6ms/step\n",
            "Epoch 23/50\n",
            "469/469 - 3s - loss: 4.0606e-04 - accuracy: 0.9980 - val_loss: 0.0032 - val_accuracy: 0.9801 - 3s/epoch - 6ms/step\n",
            "Epoch 24/50\n",
            "469/469 - 3s - loss: 4.1105e-04 - accuracy: 0.9979 - val_loss: 0.0029 - val_accuracy: 0.9816 - 3s/epoch - 7ms/step\n",
            "Epoch 25/50\n",
            "469/469 - 3s - loss: 2.8473e-04 - accuracy: 0.9987 - val_loss: 0.0030 - val_accuracy: 0.9808 - 3s/epoch - 7ms/step\n",
            "Epoch 26/50\n",
            "469/469 - 3s - loss: 3.3397e-04 - accuracy: 0.9982 - val_loss: 0.0029 - val_accuracy: 0.9820 - 3s/epoch - 6ms/step\n",
            "Epoch 27/50\n",
            "469/469 - 3s - loss: 3.9946e-04 - accuracy: 0.9979 - val_loss: 0.0033 - val_accuracy: 0.9797 - 3s/epoch - 6ms/step\n",
            "Epoch 28/50\n",
            "469/469 - 4s - loss: 3.6648e-04 - accuracy: 0.9981 - val_loss: 0.0031 - val_accuracy: 0.9802 - 4s/epoch - 8ms/step\n",
            "Epoch 29/50\n",
            "469/469 - 4s - loss: 2.9554e-04 - accuracy: 0.9986 - val_loss: 0.0030 - val_accuracy: 0.9817 - 4s/epoch - 8ms/step\n",
            "Epoch 30/50\n",
            "469/469 - 3s - loss: 2.1718e-04 - accuracy: 0.9989 - val_loss: 0.0030 - val_accuracy: 0.9817 - 3s/epoch - 7ms/step\n",
            "Epoch 31/50\n",
            "469/469 - 3s - loss: 3.3136e-04 - accuracy: 0.9981 - val_loss: 0.0034 - val_accuracy: 0.9789 - 3s/epoch - 7ms/step\n",
            "Epoch 32/50\n",
            "469/469 - 3s - loss: 3.7614e-04 - accuracy: 0.9981 - val_loss: 0.0033 - val_accuracy: 0.9790 - 3s/epoch - 7ms/step\n",
            "Epoch 33/50\n",
            "469/469 - 3s - loss: 2.9593e-04 - accuracy: 0.9985 - val_loss: 0.0031 - val_accuracy: 0.9810 - 3s/epoch - 6ms/step\n",
            "Epoch 34/50\n",
            "469/469 - 3s - loss: 2.9415e-04 - accuracy: 0.9984 - val_loss: 0.0034 - val_accuracy: 0.9788 - 3s/epoch - 7ms/step\n",
            "Epoch 35/50\n",
            "469/469 - 4s - loss: 2.3200e-04 - accuracy: 0.9988 - val_loss: 0.0032 - val_accuracy: 0.9804 - 4s/epoch - 8ms/step\n",
            "Epoch 36/50\n",
            "469/469 - 3s - loss: 2.9824e-04 - accuracy: 0.9983 - val_loss: 0.0035 - val_accuracy: 0.9782 - 3s/epoch - 7ms/step\n",
            "Epoch 37/50\n",
            "469/469 - 3s - loss: 3.1556e-04 - accuracy: 0.9982 - val_loss: 0.0031 - val_accuracy: 0.9807 - 3s/epoch - 6ms/step\n",
            "Epoch 38/50\n",
            "469/469 - 3s - loss: 2.7139e-04 - accuracy: 0.9986 - val_loss: 0.0032 - val_accuracy: 0.9800 - 3s/epoch - 7ms/step\n",
            "Epoch 39/50\n",
            "469/469 - 4s - loss: 2.2875e-04 - accuracy: 0.9988 - val_loss: 0.0030 - val_accuracy: 0.9807 - 4s/epoch - 8ms/step\n",
            "Epoch 40/50\n",
            "469/469 - 3s - loss: 2.0767e-04 - accuracy: 0.9989 - val_loss: 0.0030 - val_accuracy: 0.9812 - 3s/epoch - 6ms/step\n",
            "Epoch 41/50\n",
            "469/469 - 3s - loss: 3.0082e-04 - accuracy: 0.9983 - val_loss: 0.0033 - val_accuracy: 0.9790 - 3s/epoch - 7ms/step\n",
            "Epoch 42/50\n",
            "469/469 - 3s - loss: 3.2386e-04 - accuracy: 0.9982 - val_loss: 0.0032 - val_accuracy: 0.9804 - 3s/epoch - 7ms/step\n",
            "Epoch 43/50\n",
            "469/469 - 3s - loss: 2.6353e-04 - accuracy: 0.9985 - val_loss: 0.0030 - val_accuracy: 0.9812 - 3s/epoch - 7ms/step\n",
            "Epoch 44/50\n",
            "469/469 - 3s - loss: 2.0040e-04 - accuracy: 0.9989 - val_loss: 0.0030 - val_accuracy: 0.9821 - 3s/epoch - 7ms/step\n",
            "Epoch 45/50\n",
            "469/469 - 3s - loss: 1.7457e-04 - accuracy: 0.9991 - val_loss: 0.0030 - val_accuracy: 0.9813 - 3s/epoch - 6ms/step\n",
            "Epoch 46/50\n",
            "469/469 - 4s - loss: 2.5773e-04 - accuracy: 0.9986 - val_loss: 0.0043 - val_accuracy: 0.9724 - 4s/epoch - 8ms/step\n",
            "Epoch 47/50\n",
            "469/469 - 3s - loss: 4.3731e-04 - accuracy: 0.9973 - val_loss: 0.0029 - val_accuracy: 0.9812 - 3s/epoch - 7ms/step\n",
            "Epoch 48/50\n",
            "469/469 - 3s - loss: 1.8026e-04 - accuracy: 0.9991 - val_loss: 0.0030 - val_accuracy: 0.9816 - 3s/epoch - 6ms/step\n",
            "Epoch 49/50\n",
            "469/469 - 3s - loss: 1.6325e-04 - accuracy: 0.9992 - val_loss: 0.0029 - val_accuracy: 0.9826 - 3s/epoch - 6ms/step\n",
            "Epoch 50/50\n",
            "469/469 - 3s - loss: 1.9143e-04 - accuracy: 0.9990 - val_loss: 0.0028 - val_accuracy: 0.9823 - 3s/epoch - 7ms/step\n"
          ]
        }
      ]
    },
    {
      "cell_type": "code",
      "source": [
        "print('Adam 정확률=',mlp_adam.evaluate(x_test,y_test,verbose=0)[1]*100)"
      ],
      "metadata": {
        "colab": {
          "base_uri": "https://localhost:8080/"
        },
        "id": "_G0tAXX-ao32",
        "outputId": "1161ad19-10e4-4d6c-9888-0358a7ceba12"
      },
      "execution_count": 31,
      "outputs": [
        {
          "output_type": "stream",
          "name": "stdout",
          "text": [
            "Adam 정확률= 98.22999835014343\n"
          ]
        }
      ]
    },
    {
      "cell_type": "code",
      "source": [
        "import matplotlib.pyplot as plt"
      ],
      "metadata": {
        "id": "N6v7DynzaroE"
      },
      "execution_count": 32,
      "outputs": []
    },
    {
      "cell_type": "code",
      "source": [
        "plt.plot(hist_sgd.history['accuracy'],'r--')\n",
        "plt.plot(hist_sgd.history['val_accuracy'],'r')\n",
        "plt.plot(hist_adam.history['accuracy'],'b--')\n",
        "plt.plot(hist_adam.history['val_accuracy'],'b')\n",
        "plt.title('Comparison of SGD and Adam optimizers')\n",
        "plt.ylim((0.7,1.0))\n",
        "plt.xlabel('epochs')\n",
        "plt.ylabel('accuracy')\n",
        "plt.legend(['train_sgd','val_sgd','train_adam','val_adam'])\n",
        "plt.grid()\n",
        "plt.show()"
      ],
      "metadata": {
        "colab": {
          "base_uri": "https://localhost:8080/",
          "height": 295
        },
        "id": "65LrKgeBatW5",
        "outputId": "b5499c2f-2101-4707-81cf-bc6329dc0976"
      },
      "execution_count": 33,
      "outputs": [
        {
          "output_type": "display_data",
          "data": {
            "text/plain": [
              "<Figure size 432x288 with 1 Axes>"
            ],
            "image/png": "[encoded data removed]"
          },
          "metadata": {
            "needs_background": "light"
          }
        }
      ]
    },
    {
      "cell_type": "markdown",
      "source": [
        "하이퍼 매개변수 다루기\n",
        "\n",
        "깊은 다층 퍼셉트론으로 MNIST 인식"
      ],
      "metadata": {
        "id": "8sicl_tEat0v"
      }
    },
    {
      "cell_type": "code",
      "source": [
        "import numpy as np\n",
        "import tensorflow as tf\n",
        "import tensorflow.keras.datasets as ds\n",
        "from tensorflow.keras.models import Sequential\n",
        "from tensorflow.keras.layers import Dense\n",
        "from tensorflow.keras.optimizers import Adam\n"
      ],
      "metadata": {
        "id": "mSRUtPjFawm-"
      },
      "execution_count": 34,
      "outputs": []
    },
    {
      "cell_type": "code",
      "source": [
        "(x_train,y_train),(x_test,y_test)=ds.mnist.load_data()"
      ],
      "metadata": {
        "id": "os9wXoduayJI"
      },
      "execution_count": 35,
      "outputs": []
    },
    {
      "cell_type": "code",
      "source": [
        "x_train=x_train.reshape(60000,784)\n",
        "x_test=x_test.reshape(10000,784)\n",
        "x_train=x_train.astype(np.float32)/255.0\n",
        "x_test=x_test.astype(np.float32)/255.0\n",
        "y_train=tf.keras.utils.to_categorical(y_train,10)\n",
        "y_test=tf.keras.utils.to_categorical(y_test,10)"
      ],
      "metadata": {
        "id": "tFMVKREsazI0"
      },
      "execution_count": 36,
      "outputs": []
    },
    {
      "cell_type": "code",
      "source": [
        "dmlp=Sequential()\n",
        "dmlp.add(Dense(units=1024,activation='relu',input_shape=(784,)))\n",
        "dmlp.add(Dense(units=512,activation='relu'))\n",
        "dmlp.add(Dense(units=512,activation='relu'))\n",
        "dmlp.add(Dense(units=10,activation='softmax'))\n"
      ],
      "metadata": {
        "id": "mV8SsYyla0hi"
      },
      "execution_count": 37,
      "outputs": []
    },
    {
      "cell_type": "code",
      "source": [
        "dmlp.compile(loss='categorical_crossentropy',optimizer=Adam(learning_rate=0.0001),metrics=['accuracy'])\n"
      ],
      "metadata": {
        "id": "TFdO8Xcea1uI"
      },
      "execution_count": 38,
      "outputs": []
    },
    {
      "cell_type": "code",
      "source": [
        "hist=dmlp.fit(x_train,y_train,batch_size=128,epochs=50,validation_data=(x_test,y_test),verbose=2)"
      ],
      "metadata": {
        "colab": {
          "base_uri": "https://localhost:8080/"
        },
        "id": "HrV45nMNa3Dd",
        "outputId": "a4088b3b-a5bf-4634-d0b2-d8e09a88de9c"
      },
      "execution_count": 39,
      "outputs": [
        {
          "output_type": "stream",
          "name": "stdout",
          "text": [
            "Epoch 1/50\n",
            "469/469 - 12s - loss: 0.3989 - accuracy: 0.8988 - val_loss: 0.1752 - val_accuracy: 0.9475 - 12s/epoch - 25ms/step\n",
            "Epoch 2/50\n",
            "469/469 - 11s - loss: 0.1433 - accuracy: 0.9590 - val_loss: 0.1272 - val_accuracy: 0.9621 - 11s/epoch - 24ms/step\n",
            "Epoch 3/50\n",
            "469/469 - 11s - loss: 0.0976 - accuracy: 0.9714 - val_loss: 0.0979 - val_accuracy: 0.9700 - 11s/epoch - 23ms/step\n",
            "Epoch 4/50\n",
            "469/469 - 11s - loss: 0.0698 - accuracy: 0.9797 - val_loss: 0.0792 - val_accuracy: 0.9751 - 11s/epoch - 23ms/step\n",
            "Epoch 5/50\n",
            "469/469 - 11s - loss: 0.0524 - accuracy: 0.9849 - val_loss: 0.0743 - val_accuracy: 0.9775 - 11s/epoch - 24ms/step\n",
            "Epoch 6/50\n",
            "469/469 - 11s - loss: 0.0396 - accuracy: 0.9886 - val_loss: 0.0675 - val_accuracy: 0.9794 - 11s/epoch - 24ms/step\n",
            "Epoch 7/50\n",
            "469/469 - 11s - loss: 0.0305 - accuracy: 0.9914 - val_loss: 0.0637 - val_accuracy: 0.9809 - 11s/epoch - 24ms/step\n",
            "Epoch 8/50\n",
            "469/469 - 11s - loss: 0.0221 - accuracy: 0.9943 - val_loss: 0.0615 - val_accuracy: 0.9811 - 11s/epoch - 23ms/step\n",
            "Epoch 9/50\n",
            "469/469 - 12s - loss: 0.0183 - accuracy: 0.9952 - val_loss: 0.0630 - val_accuracy: 0.9810 - 12s/epoch - 25ms/step\n",
            "Epoch 10/50\n",
            "469/469 - 11s - loss: 0.0129 - accuracy: 0.9970 - val_loss: 0.0653 - val_accuracy: 0.9819 - 11s/epoch - 24ms/step\n",
            "Epoch 11/50\n",
            "469/469 - 11s - loss: 0.0110 - accuracy: 0.9973 - val_loss: 0.0616 - val_accuracy: 0.9822 - 11s/epoch - 24ms/step\n",
            "Epoch 12/50\n",
            "469/469 - 11s - loss: 0.0078 - accuracy: 0.9984 - val_loss: 0.0675 - val_accuracy: 0.9797 - 11s/epoch - 23ms/step\n",
            "Epoch 13/50\n",
            "469/469 - 11s - loss: 0.0054 - accuracy: 0.9991 - val_loss: 0.0677 - val_accuracy: 0.9814 - 11s/epoch - 24ms/step\n",
            "Epoch 14/50\n",
            "469/469 - 11s - loss: 0.0042 - accuracy: 0.9992 - val_loss: 0.0794 - val_accuracy: 0.9788 - 11s/epoch - 24ms/step\n",
            "Epoch 15/50\n",
            "469/469 - 11s - loss: 0.0062 - accuracy: 0.9984 - val_loss: 0.0736 - val_accuracy: 0.9813 - 11s/epoch - 23ms/step\n",
            "Epoch 16/50\n",
            "469/469 - 11s - loss: 0.0036 - accuracy: 0.9993 - val_loss: 0.0726 - val_accuracy: 0.9821 - 11s/epoch - 24ms/step\n",
            "Epoch 17/50\n",
            "469/469 - 11s - loss: 0.0055 - accuracy: 0.9983 - val_loss: 0.0722 - val_accuracy: 0.9808 - 11s/epoch - 24ms/step\n",
            "Epoch 18/50\n",
            "469/469 - 11s - loss: 0.0029 - accuracy: 0.9993 - val_loss: 0.0725 - val_accuracy: 0.9818 - 11s/epoch - 23ms/step\n",
            "Epoch 19/50\n",
            "469/469 - 11s - loss: 0.0021 - accuracy: 0.9996 - val_loss: 0.0690 - val_accuracy: 0.9836 - 11s/epoch - 23ms/step\n",
            "Epoch 20/50\n",
            "469/469 - 11s - loss: 4.4044e-04 - accuracy: 1.0000 - val_loss: 0.0731 - val_accuracy: 0.9827 - 11s/epoch - 24ms/step\n",
            "Epoch 21/50\n",
            "469/469 - 11s - loss: 4.4824e-04 - accuracy: 0.9999 - val_loss: 0.0740 - val_accuracy: 0.9832 - 11s/epoch - 23ms/step\n",
            "Epoch 22/50\n",
            "469/469 - 11s - loss: 0.0107 - accuracy: 0.9969 - val_loss: 0.0826 - val_accuracy: 0.9796 - 11s/epoch - 23ms/step\n",
            "Epoch 23/50\n",
            "469/469 - 11s - loss: 0.0039 - accuracy: 0.9991 - val_loss: 0.0756 - val_accuracy: 0.9824 - 11s/epoch - 23ms/step\n",
            "Epoch 24/50\n",
            "469/469 - 11s - loss: 6.2513e-04 - accuracy: 1.0000 - val_loss: 0.0728 - val_accuracy: 0.9830 - 11s/epoch - 24ms/step\n",
            "Epoch 25/50\n",
            "469/469 - 11s - loss: 2.7991e-04 - accuracy: 1.0000 - val_loss: 0.0749 - val_accuracy: 0.9838 - 11s/epoch - 24ms/step\n",
            "Epoch 26/50\n",
            "469/469 - 11s - loss: 1.7287e-04 - accuracy: 1.0000 - val_loss: 0.0769 - val_accuracy: 0.9837 - 11s/epoch - 24ms/step\n",
            "Epoch 27/50\n",
            "469/469 - 12s - loss: 1.2840e-04 - accuracy: 1.0000 - val_loss: 0.0782 - val_accuracy: 0.9838 - 12s/epoch - 25ms/step\n",
            "Epoch 28/50\n",
            "469/469 - 11s - loss: 1.0148e-04 - accuracy: 1.0000 - val_loss: 0.0795 - val_accuracy: 0.9840 - 11s/epoch - 23ms/step\n",
            "Epoch 29/50\n",
            "469/469 - 11s - loss: 8.3911e-05 - accuracy: 1.0000 - val_loss: 0.0812 - val_accuracy: 0.9842 - 11s/epoch - 24ms/step\n",
            "Epoch 30/50\n",
            "469/469 - 11s - loss: 6.7487e-05 - accuracy: 1.0000 - val_loss: 0.0823 - val_accuracy: 0.9840 - 11s/epoch - 24ms/step\n",
            "Epoch 31/50\n",
            "469/469 - 11s - loss: 5.3817e-05 - accuracy: 1.0000 - val_loss: 0.0844 - val_accuracy: 0.9839 - 11s/epoch - 23ms/step\n",
            "Epoch 32/50\n",
            "469/469 - 11s - loss: 4.5413e-05 - accuracy: 1.0000 - val_loss: 0.0856 - val_accuracy: 0.9839 - 11s/epoch - 23ms/step\n",
            "Epoch 33/50\n",
            "469/469 - 11s - loss: 0.0079 - accuracy: 0.9979 - val_loss: 0.1347 - val_accuracy: 0.9701 - 11s/epoch - 24ms/step\n",
            "Epoch 34/50\n",
            "469/469 - 11s - loss: 0.0075 - accuracy: 0.9977 - val_loss: 0.0786 - val_accuracy: 0.9831 - 11s/epoch - 23ms/step\n",
            "Epoch 35/50\n",
            "469/469 - 11s - loss: 0.0020 - accuracy: 0.9995 - val_loss: 0.0763 - val_accuracy: 0.9836 - 11s/epoch - 23ms/step\n",
            "Epoch 36/50\n",
            "469/469 - 11s - loss: 3.8409e-04 - accuracy: 1.0000 - val_loss: 0.0741 - val_accuracy: 0.9847 - 11s/epoch - 24ms/step\n",
            "Epoch 37/50\n",
            "469/469 - 11s - loss: 1.2581e-04 - accuracy: 1.0000 - val_loss: 0.0755 - val_accuracy: 0.9844 - 11s/epoch - 24ms/step\n",
            "Epoch 38/50\n",
            "469/469 - 11s - loss: 8.8236e-05 - accuracy: 1.0000 - val_loss: 0.0770 - val_accuracy: 0.9844 - 11s/epoch - 23ms/step\n",
            "Epoch 39/50\n",
            "469/469 - 11s - loss: 6.8389e-05 - accuracy: 1.0000 - val_loss: 0.0782 - val_accuracy: 0.9845 - 11s/epoch - 24ms/step\n",
            "Epoch 40/50\n",
            "469/469 - 11s - loss: 5.4178e-05 - accuracy: 1.0000 - val_loss: 0.0796 - val_accuracy: 0.9846 - 11s/epoch - 24ms/step\n",
            "Epoch 41/50\n",
            "469/469 - 11s - loss: 4.3612e-05 - accuracy: 1.0000 - val_loss: 0.0811 - val_accuracy: 0.9844 - 11s/epoch - 24ms/step\n",
            "Epoch 42/50\n",
            "469/469 - 11s - loss: 3.4891e-05 - accuracy: 1.0000 - val_loss: 0.0830 - val_accuracy: 0.9844 - 11s/epoch - 24ms/step\n",
            "Epoch 43/50\n",
            "469/469 - 11s - loss: 2.8033e-05 - accuracy: 1.0000 - val_loss: 0.0841 - val_accuracy: 0.9843 - 11s/epoch - 24ms/step\n",
            "Epoch 44/50\n",
            "469/469 - 11s - loss: 2.3042e-05 - accuracy: 1.0000 - val_loss: 0.0855 - val_accuracy: 0.9846 - 11s/epoch - 23ms/step\n",
            "Epoch 45/50\n",
            "469/469 - 11s - loss: 1.8688e-05 - accuracy: 1.0000 - val_loss: 0.0876 - val_accuracy: 0.9849 - 11s/epoch - 23ms/step\n",
            "Epoch 46/50\n",
            "469/469 - 12s - loss: 1.5170e-05 - accuracy: 1.0000 - val_loss: 0.0893 - val_accuracy: 0.9842 - 12s/epoch - 25ms/step\n",
            "Epoch 47/50\n",
            "469/469 - 11s - loss: 1.2856e-05 - accuracy: 1.0000 - val_loss: 0.0905 - val_accuracy: 0.9842 - 11s/epoch - 24ms/step\n",
            "Epoch 48/50\n",
            "469/469 - 11s - loss: 1.0199e-05 - accuracy: 1.0000 - val_loss: 0.0924 - val_accuracy: 0.9842 - 11s/epoch - 24ms/step\n",
            "Epoch 49/50\n",
            "469/469 - 11s - loss: 8.7309e-06 - accuracy: 1.0000 - val_loss: 0.0935 - val_accuracy: 0.9840 - 11s/epoch - 24ms/step\n",
            "Epoch 50/50\n",
            "469/469 - 11s - loss: 0.0100 - accuracy: 0.9972 - val_loss: 0.1149 - val_accuracy: 0.9770 - 11s/epoch - 24ms/step\n"
          ]
        }
      ]
    },
    {
      "cell_type": "code",
      "source": [
        "print('정확률=', dmlp.evaluate(x_test,y_test,verbose=0)[1]*100)"
      ],
      "metadata": {
        "colab": {
          "base_uri": "https://localhost:8080/"
        },
        "id": "z-yTRAOJa4NE",
        "outputId": "3a4b69e0-894e-4e74-ce3b-ceef2fdc13f6"
      },
      "execution_count": 40,
      "outputs": [
        {
          "output_type": "stream",
          "name": "stdout",
          "text": [
            "정확률= 97.69999980926514\n"
          ]
        }
      ]
    },
    {
      "cell_type": "code",
      "source": [
        "dmlp.save('dmlp_trained.h5')\n"
      ],
      "metadata": {
        "id": "5Sz8tWhWa5he"
      },
      "execution_count": 41,
      "outputs": []
    },
    {
      "cell_type": "code",
      "source": [
        "import matplotlib.pyplot as plt"
      ],
      "metadata": {
        "id": "DddliIuua7m3"
      },
      "execution_count": 42,
      "outputs": []
    },
    {
      "cell_type": "code",
      "source": [
        "plt.plot(hist.history['accuracy'])\n",
        "plt.plot(hist.history['val_accuracy'])\n",
        "plt.title('Accuracy graph')\n",
        "plt.xlabel('epochs')\n",
        "plt.ylabel('accuracy')\n",
        "plt.legend(['train','test'])\n",
        "plt.grid()\n",
        "plt.show()"
      ],
      "metadata": {
        "colab": {
          "base_uri": "https://localhost:8080/",
          "height": 295
        },
        "id": "xVoyy2aka9DP",
        "outputId": "7414be9d-3bab-4ced-ebb2-7949e0e8b79c"
      },
      "execution_count": 43,
      "outputs": [
        {
          "output_type": "display_data",
          "data": {
            "text/plain": [
              "<Figure size 432x288 with 1 Axes>"
            ],
            "image/png": "[encoded data removed]"
          },
          "metadata": {
            "needs_background": "light"
          }
        }
      ]
    },
    {
      "cell_type": "code",
      "source": [
        "plt.plot(hist.history['loss'])\n",
        "plt.plot(hist.history['val_loss'])\n",
        "plt.title('Loss graph')\n",
        "plt.xlabel('epochs')\n",
        "plt.ylabel('loss')\n",
        "plt.legend(['train','test'])\n",
        "plt.grid()\n",
        "plt.show()"
      ],
      "metadata": {
        "colab": {
          "base_uri": "https://localhost:8080/",
          "height": 295
        },
        "id": "1NfyEsNoa-Oa",
        "outputId": "d659edad-96dd-48a8-a831-5bc7f9698ec8"
      },
      "execution_count": 44,
      "outputs": [
        {
          "output_type": "display_data",
          "data": {
            "text/plain": [
              "<Figure size 432x288 with 1 Axes>"
            ],
            "image/png": "[encoded data removed]"
          },
          "metadata": {
            "needs_background": "light"
          }
        }
      ]
    },
    {
      "cell_type": "markdown",
      "source": [
        "자연 영상 인식\n",
        "\n",
        "깊은 다층 퍼셉트론으로 CIFAR-10 인식하기\n"
      ],
      "metadata": {
        "id": "fN-jYAzLa_oT"
      }
    },
    {
      "cell_type": "code",
      "source": [
        "import numpy as np\n",
        "import tensorflow as tf\n",
        "import tensorflow.keras.datasets as ds\n",
        "from tensorflow.keras.models import Sequential\n",
        "from tensorflow.keras.layers import Dense\n",
        "from tensorflow.keras.optimizers import Adam\n"
      ],
      "metadata": {
        "id": "ZDSD3U2QbAmo"
      },
      "execution_count": 45,
      "outputs": []
    },
    {
      "cell_type": "code",
      "source": [
        "(x_train,y_train),(x_test,y_test)=ds.cifar10.load_data()\n"
      ],
      "metadata": {
        "id": "LvCMT2U0bCdm"
      },
      "execution_count": 46,
      "outputs": []
    },
    {
      "cell_type": "code",
      "source": [
        "x_train=x_train.reshape(50000,3072)\n",
        "x_test=x_test.reshape(10000,3072)\n",
        "x_train=x_train.astype(np.float32)/255.0\n",
        "x_test=x_test.astype(np.float32)/255.0\n",
        "y_train=tf.keras.utils.to_categorical(y_train,10)\n",
        "y_test=tf.keras.utils.to_categorical(y_test,10)\n"
      ],
      "metadata": {
        "id": "vp5uEpwbbDcA"
      },
      "execution_count": 47,
      "outputs": []
    },
    {
      "cell_type": "code",
      "source": [
        "dmlp=Sequential()\n",
        "dmlp.add(Dense(units=1024,activation='relu',input_shape=(3072,)))\n",
        "dmlp.add(Dense(units=512,activation='relu'))\n",
        "dmlp.add(Dense(units=512,activation='relu'))\n",
        "dmlp.add(Dense(units=10,activation='softmax'))"
      ],
      "metadata": {
        "id": "urS2-UTmbEbt"
      },
      "execution_count": 48,
      "outputs": []
    },
    {
      "cell_type": "code",
      "source": [
        "dmlp.compile(loss='categorical_crossentropy',optimizer=Adam(learning_rate=0.0001),metrics=['accuracy'])"
      ],
      "metadata": {
        "id": "Kp1P4OCrbGDr"
      },
      "execution_count": 49,
      "outputs": []
    },
    {
      "cell_type": "code",
      "source": [
        "hist=dmlp.fit(x_train,y_train,batch_size=128,epochs=50,validation_data=(x_test,y_test),verbose=2)\n"
      ],
      "metadata": {
        "colab": {
          "base_uri": "https://localhost:8080/"
        },
        "id": "URJa5cXabHCS",
        "outputId": "c846bb71-cbce-4a3c-f38b-094d0c051d17"
      },
      "execution_count": 50,
      "outputs": [
        {
          "output_type": "stream",
          "name": "stdout",
          "text": [
            "Epoch 1/50\n",
            "391/391 - 21s - loss: 1.8223 - accuracy: 0.3492 - val_loss: 1.6622 - val_accuracy: 0.4157 - 21s/epoch - 54ms/step\n",
            "Epoch 2/50\n",
            "391/391 - 20s - loss: 1.6268 - accuracy: 0.4209 - val_loss: 1.5552 - val_accuracy: 0.4525 - 20s/epoch - 51ms/step\n",
            "Epoch 3/50\n",
            "391/391 - 20s - loss: 1.5369 - accuracy: 0.4530 - val_loss: 1.5508 - val_accuracy: 0.4565 - 20s/epoch - 50ms/step\n",
            "Epoch 4/50\n",
            "391/391 - 19s - loss: 1.4734 - accuracy: 0.4781 - val_loss: 1.4690 - val_accuracy: 0.4787 - 19s/epoch - 49ms/step\n",
            "Epoch 5/50\n",
            "391/391 - 20s - loss: 1.4256 - accuracy: 0.4948 - val_loss: 1.4351 - val_accuracy: 0.4884 - 20s/epoch - 51ms/step\n",
            "Epoch 6/50\n",
            "391/391 - 20s - loss: 1.3792 - accuracy: 0.5124 - val_loss: 1.4128 - val_accuracy: 0.4980 - 20s/epoch - 50ms/step\n",
            "Epoch 7/50\n",
            "391/391 - 20s - loss: 1.3349 - accuracy: 0.5271 - val_loss: 1.3738 - val_accuracy: 0.5150 - 20s/epoch - 52ms/step\n",
            "Epoch 8/50\n",
            "391/391 - 20s - loss: 1.3027 - accuracy: 0.5387 - val_loss: 1.4040 - val_accuracy: 0.5009 - 20s/epoch - 50ms/step\n",
            "Epoch 9/50\n",
            "391/391 - 20s - loss: 1.2694 - accuracy: 0.5500 - val_loss: 1.3811 - val_accuracy: 0.5110 - 20s/epoch - 51ms/step\n",
            "Epoch 10/50\n",
            "391/391 - 19s - loss: 1.2409 - accuracy: 0.5618 - val_loss: 1.4477 - val_accuracy: 0.4904 - 19s/epoch - 49ms/step\n",
            "Epoch 11/50\n",
            "391/391 - 20s - loss: 1.2032 - accuracy: 0.5757 - val_loss: 1.3227 - val_accuracy: 0.5308 - 20s/epoch - 50ms/step\n",
            "Epoch 12/50\n",
            "391/391 - 20s - loss: 1.1726 - accuracy: 0.5885 - val_loss: 1.3329 - val_accuracy: 0.5367 - 20s/epoch - 52ms/step\n",
            "Epoch 13/50\n",
            "391/391 - 19s - loss: 1.1411 - accuracy: 0.5996 - val_loss: 1.3686 - val_accuracy: 0.5207 - 19s/epoch - 49ms/step\n",
            "Epoch 14/50\n",
            "391/391 - 20s - loss: 1.1183 - accuracy: 0.6060 - val_loss: 1.3330 - val_accuracy: 0.5310 - 20s/epoch - 50ms/step\n",
            "Epoch 15/50\n",
            "391/391 - 20s - loss: 1.0896 - accuracy: 0.6154 - val_loss: 1.3121 - val_accuracy: 0.5395 - 20s/epoch - 50ms/step\n",
            "Epoch 16/50\n",
            "391/391 - 19s - loss: 1.0656 - accuracy: 0.6252 - val_loss: 1.3099 - val_accuracy: 0.5464 - 19s/epoch - 49ms/step\n",
            "Epoch 17/50\n",
            "391/391 - 19s - loss: 1.0317 - accuracy: 0.6376 - val_loss: 1.3231 - val_accuracy: 0.5373 - 19s/epoch - 50ms/step\n",
            "Epoch 18/50\n",
            "391/391 - 20s - loss: 1.0058 - accuracy: 0.6481 - val_loss: 1.3169 - val_accuracy: 0.5372 - 20s/epoch - 51ms/step\n",
            "Epoch 19/50\n",
            "391/391 - 19s - loss: 0.9717 - accuracy: 0.6599 - val_loss: 1.3265 - val_accuracy: 0.5383 - 19s/epoch - 50ms/step\n",
            "Epoch 20/50\n",
            "391/391 - 20s - loss: 0.9489 - accuracy: 0.6681 - val_loss: 1.3136 - val_accuracy: 0.5437 - 20s/epoch - 50ms/step\n",
            "Epoch 21/50\n",
            "391/391 - 19s - loss: 0.9208 - accuracy: 0.6785 - val_loss: 1.3626 - val_accuracy: 0.5361 - 19s/epoch - 49ms/step\n",
            "Epoch 22/50\n",
            "391/391 - 20s - loss: 0.8997 - accuracy: 0.6856 - val_loss: 1.3314 - val_accuracy: 0.5457 - 20s/epoch - 51ms/step\n",
            "Epoch 23/50\n",
            "391/391 - 20s - loss: 0.8692 - accuracy: 0.6960 - val_loss: 1.3118 - val_accuracy: 0.5508 - 20s/epoch - 51ms/step\n",
            "Epoch 24/50\n",
            "391/391 - 19s - loss: 0.8412 - accuracy: 0.7076 - val_loss: 1.3500 - val_accuracy: 0.5477 - 19s/epoch - 49ms/step\n",
            "Epoch 25/50\n",
            "391/391 - 20s - loss: 0.8244 - accuracy: 0.7135 - val_loss: 1.3449 - val_accuracy: 0.5482 - 20s/epoch - 50ms/step\n",
            "Epoch 26/50\n",
            "391/391 - 20s - loss: 0.7968 - accuracy: 0.7236 - val_loss: 1.3511 - val_accuracy: 0.5477 - 20s/epoch - 51ms/step\n",
            "Epoch 27/50\n",
            "391/391 - 19s - loss: 0.7662 - accuracy: 0.7354 - val_loss: 1.3677 - val_accuracy: 0.5427 - 19s/epoch - 49ms/step\n",
            "Epoch 28/50\n",
            "391/391 - 21s - loss: 0.7414 - accuracy: 0.7434 - val_loss: 1.3597 - val_accuracy: 0.5551 - 21s/epoch - 53ms/step\n",
            "Epoch 29/50\n",
            "391/391 - 20s - loss: 0.7182 - accuracy: 0.7504 - val_loss: 1.3857 - val_accuracy: 0.5517 - 20s/epoch - 50ms/step\n",
            "Epoch 30/50\n",
            "391/391 - 19s - loss: 0.6991 - accuracy: 0.7594 - val_loss: 1.4334 - val_accuracy: 0.5477 - 19s/epoch - 49ms/step\n",
            "Epoch 31/50\n",
            "391/391 - 20s - loss: 0.6755 - accuracy: 0.7682 - val_loss: 1.3951 - val_accuracy: 0.5543 - 20s/epoch - 50ms/step\n",
            "Epoch 32/50\n",
            "391/391 - 20s - loss: 0.6403 - accuracy: 0.7808 - val_loss: 1.4115 - val_accuracy: 0.5590 - 20s/epoch - 51ms/step\n",
            "Epoch 33/50\n",
            "391/391 - 19s - loss: 0.6207 - accuracy: 0.7879 - val_loss: 1.4499 - val_accuracy: 0.5508 - 19s/epoch - 49ms/step\n",
            "Epoch 34/50\n",
            "391/391 - 20s - loss: 0.6007 - accuracy: 0.7941 - val_loss: 1.4550 - val_accuracy: 0.5512 - 20s/epoch - 51ms/step\n",
            "Epoch 35/50\n",
            "391/391 - 21s - loss: 0.5738 - accuracy: 0.8025 - val_loss: 1.4846 - val_accuracy: 0.5545 - 21s/epoch - 52ms/step\n",
            "Epoch 36/50\n",
            "391/391 - 19s - loss: 0.5592 - accuracy: 0.8080 - val_loss: 1.5052 - val_accuracy: 0.5440 - 19s/epoch - 49ms/step\n",
            "Epoch 37/50\n",
            "391/391 - 20s - loss: 0.5320 - accuracy: 0.8190 - val_loss: 1.5045 - val_accuracy: 0.5541 - 20s/epoch - 51ms/step\n",
            "Epoch 38/50\n",
            "391/391 - 20s - loss: 0.5212 - accuracy: 0.8226 - val_loss: 1.5575 - val_accuracy: 0.5401 - 20s/epoch - 50ms/step\n",
            "Epoch 39/50\n",
            "391/391 - 20s - loss: 0.4874 - accuracy: 0.8357 - val_loss: 1.5390 - val_accuracy: 0.5572 - 20s/epoch - 50ms/step\n",
            "Epoch 40/50\n",
            "391/391 - 20s - loss: 0.4697 - accuracy: 0.8412 - val_loss: 1.5778 - val_accuracy: 0.5489 - 20s/epoch - 51ms/step\n",
            "Epoch 41/50\n",
            "391/391 - 20s - loss: 0.4543 - accuracy: 0.8463 - val_loss: 1.5870 - val_accuracy: 0.5506 - 20s/epoch - 51ms/step\n",
            "Epoch 42/50\n",
            "391/391 - 19s - loss: 0.4356 - accuracy: 0.8542 - val_loss: 1.6157 - val_accuracy: 0.5501 - 19s/epoch - 49ms/step\n",
            "Epoch 43/50\n",
            "391/391 - 20s - loss: 0.4173 - accuracy: 0.8618 - val_loss: 1.6915 - val_accuracy: 0.5425 - 20s/epoch - 50ms/step\n",
            "Epoch 44/50\n",
            "391/391 - 19s - loss: 0.4015 - accuracy: 0.8667 - val_loss: 1.6828 - val_accuracy: 0.5570 - 19s/epoch - 50ms/step\n",
            "Epoch 45/50\n",
            "391/391 - 20s - loss: 0.3871 - accuracy: 0.8714 - val_loss: 1.7038 - val_accuracy: 0.5456 - 20s/epoch - 50ms/step\n",
            "Epoch 46/50\n",
            "391/391 - 20s - loss: 0.3618 - accuracy: 0.8798 - val_loss: 1.7502 - val_accuracy: 0.5502 - 20s/epoch - 50ms/step\n",
            "Epoch 47/50\n",
            "391/391 - 21s - loss: 0.3515 - accuracy: 0.8838 - val_loss: 1.7541 - val_accuracy: 0.5488 - 21s/epoch - 53ms/step\n",
            "Epoch 48/50\n",
            "391/391 - 19s - loss: 0.3349 - accuracy: 0.8899 - val_loss: 1.8309 - val_accuracy: 0.5454 - 19s/epoch - 49ms/step\n",
            "Epoch 49/50\n",
            "391/391 - 20s - loss: 0.3305 - accuracy: 0.8899 - val_loss: 1.8172 - val_accuracy: 0.5444 - 20s/epoch - 52ms/step\n",
            "Epoch 50/50\n",
            "391/391 - 20s - loss: 0.3088 - accuracy: 0.8993 - val_loss: 1.8490 - val_accuracy: 0.5509 - 20s/epoch - 51ms/step\n"
          ]
        }
      ]
    },
    {
      "cell_type": "code",
      "source": [
        "print('정확률=', dmlp.evaluate(x_test,y_test,verbose=0)[1]*100)"
      ],
      "metadata": {
        "colab": {
          "base_uri": "https://localhost:8080/"
        },
        "id": "mJ2v9Y8zbIK3",
        "outputId": "edb68052-6c6a-488b-83a2-1a2a50e3cf16"
      },
      "execution_count": 51,
      "outputs": [
        {
          "output_type": "stream",
          "name": "stdout",
          "text": [
            "정확률= 55.08999824523926\n"
          ]
        }
      ]
    },
    {
      "cell_type": "code",
      "source": [
        "# dmlp.save('dmlp_trained.h5')"
      ],
      "metadata": {
        "id": "MX7dWG_7bJtR"
      },
      "execution_count": 52,
      "outputs": []
    },
    {
      "cell_type": "code",
      "source": [
        "import matplotlib.pyplot as plt"
      ],
      "metadata": {
        "id": "-fxqDP2cbLKD"
      },
      "execution_count": 53,
      "outputs": []
    },
    {
      "cell_type": "code",
      "source": [
        "plt.plot(hist.history['accuracy'])\n",
        "plt.plot(hist.history['val_accuracy'])\n",
        "plt.title('Accuracy graph')\n",
        "plt.xlabel('epochs')\n",
        "plt.ylabel('accuracy')\n",
        "plt.legend(['train','test'])\n",
        "plt.grid()\n",
        "plt.show()\n"
      ],
      "metadata": {
        "colab": {
          "base_uri": "https://localhost:8080/",
          "height": 295
        },
        "id": "Dduhsf1-bMYg",
        "outputId": "757e0b5e-6403-4756-eb19-86e8a3d82417"
      },
      "execution_count": 54,
      "outputs": [
        {
          "output_type": "display_data",
          "data": {
            "text/plain": [
              "<Figure size 432x288 with 1 Axes>"
            ],
            "image/png": "[encoded data removed]"
          },
          "metadata": {
            "needs_background": "light"
          }
        }
      ]
    },
    {
      "cell_type": "code",
      "source": [
        "plt.plot(hist.history['loss'])\n",
        "plt.plot(hist.history['val_loss'])\n",
        "plt.title('Loss graph')\n",
        "plt.xlabel('epochs')\n",
        "plt.ylabel('loss')\n",
        "plt.legend(['train','test'])\n",
        "plt.grid()\n",
        "plt.show()\n"
      ],
      "metadata": {
        "colab": {
          "base_uri": "https://localhost:8080/",
          "height": 295
        },
        "id": "IMf0oyuDbNWq",
        "outputId": "18bbb0ca-1c67-4b9b-9e25-1877d3f2b6d0"
      },
      "execution_count": 55,
      "outputs": [
        {
          "output_type": "display_data",
          "data": {
            "text/plain": [
              "<Figure size 432x288 with 1 Axes>"
            ],
            "image/png": "[encoded data removed]"
          },
          "metadata": {
            "needs_background": "light"
          }
        }
      ]
    },
    {
      "cell_type": "code",
      "source": [],
      "metadata": {
        "id": "EGx2qtnzbPVO"
      },
      "execution_count": null,
      "outputs": []
    }
  ]
}